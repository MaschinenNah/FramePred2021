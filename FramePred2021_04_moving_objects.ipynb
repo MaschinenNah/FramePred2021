{
  "nbformat": 4,
  "nbformat_minor": 0,
  "metadata": {
    "colab": {
      "name": "FramePred2021_01_moving_objects.ipynb",
      "provenance": [],
      "collapsed_sections": [],
      "machine_shape": "hm",
      "authorship_tag": "ABX9TyNUoeGCyRRjYV3mSj9rruwI",
      "include_colab_link": true
    },
    "kernelspec": {
      "name": "python3",
      "display_name": "Python 3"
    },
    "language_info": {
      "name": "python"
    },
    "accelerator": "GPU"
  },
  "cells": [
    {
      "cell_type": "markdown",
      "metadata": {
        "id": "view-in-github",
        "colab_type": "text"
      },
      "source": [
        "<a href=\"https://colab.research.google.com/github/MaschinenNah/FramePred2021/blob/main/FramePred2021_04_moving_objects.ipynb\" target=\"_parent\"><img src=\"https://colab.research.google.com/assets/colab-badge.svg\" alt=\"Open In Colab\"/></a>"
      ]
    },
    {
      "cell_type": "code",
      "metadata": {
        "colab": {
          "base_uri": "https://localhost:8080/"
        },
        "id": "JL6go8agBekX",
        "outputId": "f52c978d-0029-47b5-ba2e-0d83ee46be4c"
      },
      "source": [
        "from skimage import draw\n",
        "import numpy as np\n",
        "from matplotlib import pyplot as plt\n",
        "import random\n",
        "\n",
        "!git clone https://github.com/MaschinenNah/ml_utils\n",
        "from ml_utils import show\n",
        "from ml_utils import convert\n",
        "\n",
        "gpu_info = !nvidia-smi\n",
        "gpu_info = '\\n'.join(gpu_info)\n",
        "if gpu_info.find('failed') >= 0:\n",
        "  print('Select the Runtime > \"Change runtime type\" menu to enable a GPU accelerator, ')\n",
        "  print('and then re-execute this cell.')\n",
        "else:\n",
        "  print(gpu_info)"
      ],
      "execution_count": 1,
      "outputs": [
        {
          "output_type": "stream",
          "name": "stdout",
          "text": [
            "Cloning into 'ml_utils'...\n",
            "remote: Enumerating objects: 124, done.\u001b[K\n",
            "remote: Counting objects: 100% (124/124), done.\u001b[K\n",
            "remote: Compressing objects: 100% (89/89), done.\u001b[K\n",
            "remote: Total 124 (delta 57), reused 86 (delta 26), pack-reused 0\u001b[K\n",
            "Receiving objects: 100% (124/124), 14.76 KiB | 2.95 MiB/s, done.\n",
            "Resolving deltas: 100% (57/57), done.\n",
            "Tue Sep  7 13:35:05 2021       \n",
            "+-----------------------------------------------------------------------------+\n",
            "| NVIDIA-SMI 470.63.01    Driver Version: 460.32.03    CUDA Version: 11.2     |\n",
            "|-------------------------------+----------------------+----------------------+\n",
            "| GPU  Name        Persistence-M| Bus-Id        Disp.A | Volatile Uncorr. ECC |\n",
            "| Fan  Temp  Perf  Pwr:Usage/Cap|         Memory-Usage | GPU-Util  Compute M. |\n",
            "|                               |                      |               MIG M. |\n",
            "|===============================+======================+======================|\n",
            "|   0  Tesla P100-PCIE...  Off  | 00000000:00:04.0 Off |                    0 |\n",
            "| N/A   36C    P0    26W / 250W |      0MiB / 16280MiB |      0%      Default |\n",
            "|                               |                      |                  N/A |\n",
            "+-------------------------------+----------------------+----------------------+\n",
            "                                                                               \n",
            "+-----------------------------------------------------------------------------+\n",
            "| Processes:                                                                  |\n",
            "|  GPU   GI   CI        PID   Type   Process name                  GPU Memory |\n",
            "|        ID   ID                                                   Usage      |\n",
            "|=============================================================================|\n",
            "|  No running processes found                                                 |\n",
            "+-----------------------------------------------------------------------------+\n"
          ]
        }
      ]
    },
    {
      "cell_type": "markdown",
      "metadata": {
        "id": "0ZbNGY-LUvKX"
      },
      "source": [
        "###Eine Funktion, die bewegte Objekte in ein Numpy Array \"hineinmalt\"\n",
        "\n",
        "Ein Etappenziel besteht darin, einen Generator zu programmieren, der Trainingsdaten für die Frame Prediction erzeugt.\n",
        "\n",
        "Ein einzelnes Trainingsbeispiel soll aus einer Folge von vorherigen Frames (x) und einer Folge von zukünftigen Frames (y) bestehen.\n",
        "\n",
        "Wir wollen dabei möglichst flexibel sein: Die Anzahl und Art der bewegten Objekte, die Größe des einzelnen Frames etc. sollen leicht zu ändern sein.\n",
        "\n",
        "Zu diesem Behufe definieren wir eine Funktion, die den Bewegungsablauf eines einzelnen Objektes in ein Numpy Array hineinmalt.\n",
        "\n",
        "Das einzige Argument arr ist ein Numpy Array. Hier gibt es nur folgende Vorgaben:\n",
        "\n",
        "arr[i] ist ein einzelner Frame\n",
        "\n",
        "Ensprechend bedeutet, wenn arr.shape[0] == 24, dass die Sequenz aus 24 Frames besteht.\n",
        "\n",
        "Die Ausdehnungen der zweiten und dritten Dimension ist gleich, sprich: Die einzelnen Frames sind quadratisch!"
      ]
    },
    {
      "cell_type": "code",
      "metadata": {
        "id": "rAffGp27Z3va"
      },
      "source": [
        "def write_moving_object_into(arr):\n",
        "  \n",
        "  # Anzahl der Frames wird direkt aus der shape gefolgert:\n",
        "  n_frames = arr.shape[0]\n",
        "  # Ebenso die Größe der Frames:\n",
        "  frame_size = arr.shape[1]\n",
        "\n",
        "  # Bestimmung von Ausdehnung, Startposition und Geschwindigkeit des Objektes per Zufall:\n",
        "  r = random.uniform(frame_size/12, frame_size/6)\n",
        "  xpos = random.uniform(2*r, frame_size-2*r)\n",
        "  ypos = random.uniform(2*r, frame_size-2*r)\n",
        "  xspeed = random.uniform(frame_size/10., frame_size/7.) * random.choice([-1,1])\n",
        "  yspeed = random.uniform(frame_size/10., frame_size/7.) * random.choice([-1,1])\n",
        "\n",
        "  # Kreis oder Quadrat?\n",
        "  renderer = random.randint(0, 1)\n",
        "\n",
        "  # Berechnung der Bewegungssequenz:\n",
        "  for i in range(0, n_frames):\n",
        "\n",
        "    xpos_new = xpos + xspeed\n",
        "    if xpos_new < 0 or xpos_new > frame_size:\n",
        "      xspeed *= -1\n",
        "    else:\n",
        "      xpos = xpos_new\n",
        "    \n",
        "    ypos_new = ypos + yspeed\n",
        "    if ypos_new < 0 or ypos_new > frame_size:\n",
        "      yspeed *= -1\n",
        "    else:\n",
        "      ypos = ypos_new\n",
        "\n",
        "    if renderer == 0:\n",
        "      for j in range(0, round(frame_size/15)):\n",
        "        # Hier findet das Malen statt:\n",
        "        y, x = draw.circle_perimeter(round(xpos), round(ypos), round(r-j), shape=(frame_size, frame_size))\n",
        "        # y, x = draw.circle(round(xpos), round(ypos), round(r-j), shape=(frame_size, frame_size))\n",
        "        arr[i, y, x] = 1\n",
        "      \n",
        "    elif renderer == 1:\n",
        "      for j in range(0, round(frame_size/15)):\n",
        "        # Hier findet das Malen statt:\n",
        "        y, x = draw.rectangle_perimeter((round(xpos)-r+j, round(ypos)-r+j), extent=(2*r-2*j, 2*r-2*j), shape=(frame_size, frame_size))\n",
        "        # y, x = draw.rectangle((round(xpos)-r+j, round(ypos)-r+j), extent=(2*r-2*j, 2*r-2*j), shape=(frame_size, frame_size))\n",
        "        y = y.astype(\"uint8\")\n",
        "        x = x.astype(\"uint8\")\n",
        "        arr[i, y, x] = 1"
      ],
      "execution_count": 2,
      "outputs": []
    },
    {
      "cell_type": "markdown",
      "metadata": {
        "id": "ZKBWDIctZE5j"
      },
      "source": [
        "##Die Anwendung der Funktion"
      ]
    },
    {
      "cell_type": "code",
      "metadata": {
        "colab": {
          "base_uri": "https://localhost:8080/",
          "height": 769
        },
        "id": "ZWp8k-l9Kyun",
        "outputId": "9ad14e98-f13b-4d59-de9c-19e9f2e27d99"
      },
      "source": [
        "# Hier bauen wir eine Sequenz aus 10 Frames, 200 x 200 Pixel mit einem Objekt:\n",
        "arr = np.zeros((10, 200, 200))\n",
        "write_moving_object_into(arr)\n",
        "show.show_images_from_np_array(arr, \"1 Objekt, 10 Frames 200x200\")\n",
        "\n",
        "# Und eine Sequenz aus 5 Frames, 24 x 24:\n",
        "arr = np.zeros((5, 24, 24))\n",
        "write_moving_object_into(arr)\n",
        "write_moving_object_into(arr)\n",
        "write_moving_object_into(arr)\n",
        "show.show_images_from_np_array(arr, \"3 Objekte, 5 Frames 24x24\")"
      ],
      "execution_count": 5,
      "outputs": [
        {
          "output_type": "display_data",
          "data": {
            "image/png": "[encoded data removed]",
            "text/plain": [
              "<Figure size 576x576 with 10 Axes>"
            ]
          },
          "metadata": {}
        },
        {
          "output_type": "display_data",
          "data": {
            "image/png": "[encoded data removed]",
            "text/plain": [
              "<Figure size 576x576 with 5 Axes>"
            ]
          },
          "metadata": {}
        }
      ]
    },
    {
      "cell_type": "markdown",
      "metadata": {
        "id": "pAFFbFJYZ3Zc"
      },
      "source": [
        "## Ein Generator"
      ]
    },
    {
      "cell_type": "code",
      "metadata": {
        "id": "x4SL_aV8Z5_l"
      },
      "source": [
        "from tensorflow.keras.utils import Sequence\n",
        "\n",
        "class FramePredGen(Sequence):\n",
        "\n",
        "  def __init__(self,\n",
        "               frame_shape,\n",
        "               n_frames_x,\n",
        "               n_frames_y,\n",
        "               renderer_function,\n",
        "               len=50,\n",
        "               batch_size=50):\n",
        "\n",
        "    self.frame_shape = frame_shape\n",
        "    self.n_frames_x = n_frames_x\n",
        "    self.n_frames_y = n_frames_y\n",
        "    self.renderer_function = renderer_function\n",
        "    self.len = len\n",
        "    self.batch_size = batch_size\n",
        "    \n",
        "    self.all_examples = []\n",
        "\n",
        "\n",
        "  def __len__(self):\n",
        "    return self.len\n",
        "\n",
        "  def __getitem__(self, batch_index):\n",
        "    if batch_index >= self.len:\n",
        "      raise IndexError(\"batch index out of range\")\n",
        "    else:\n",
        "      batch_x, batch_y = self._get_empty_batch()\n",
        "      for example_index in range(self.batch_size):\n",
        "        all_frames = np.zeros((self.n_frames_x + self.n_frames_y,) + self.frame_shape)\n",
        "        self.renderer_function(all_frames)\n",
        "        x = all_frames[:self.n_frames_x]\n",
        "        y = all_frames[self.n_frames_x]\n",
        "\n",
        "        batch_x[example_index] = x\n",
        "        batch_y[example_index] = y\n",
        "      \n",
        "      return batch_x, batch_y\n",
        "\n",
        "  # Hilfsfunktion – Erzeugung leerer Batches:\n",
        "  def _get_empty_batch(self):\n",
        "    empty_batch_x = np.zeros((self.batch_size,) + (self.n_frames_x,) + (self.frame_shape), \"float32\")\n",
        "    empty_batch_y = np.zeros((self.batch_size,) + (self.n_frames_y,) + (self.frame_shape), \"float32\")\n",
        "    return empty_batch_x, empty_batch_y\n",
        "\n"
      ],
      "execution_count": 6,
      "outputs": []
    },
    {
      "cell_type": "code",
      "metadata": {
        "id": "YcszaGtohO7v",
        "colab": {
          "base_uri": "https://localhost:8080/",
          "height": 360
        },
        "outputId": "199cab80-fb9f-43da-a444-d60211c52075"
      },
      "source": [
        "shape = (24, 24)\n",
        "\n",
        "gen = FramePredGen(shape, 16, 1, write_moving_object_into)\n",
        "\n",
        "batch = gen[0]\n",
        "\n",
        "show.show_images_from_np_array(batch[0][0], \"x\", width=5)\n",
        "show.show_images_from_np_array(batch[1][0], \"y\", width=5)\n",
        "\n",
        "#batch[0].shape\n",
        "\n",
        "#show.show_frame_prediction_batch(batch)"
      ],
      "execution_count": 7,
      "outputs": [
        {
          "output_type": "error",
          "ename": "NameError",
          "evalue": "ignored",
          "traceback": [
            "\u001b[0;31m---------------------------------------------------------------------------\u001b[0m",
            "\u001b[0;31mNameError\u001b[0m                                 Traceback (most recent call last)",
            "\u001b[0;32m<ipython-input-7-a2ed31f87e1d>\u001b[0m in \u001b[0;36m<module>\u001b[0;34m()\u001b[0m\n\u001b[1;32m      1\u001b[0m \u001b[0mshape\u001b[0m \u001b[0;34m=\u001b[0m \u001b[0;34m(\u001b[0m\u001b[0;36m24\u001b[0m\u001b[0;34m,\u001b[0m \u001b[0;36m24\u001b[0m\u001b[0;34m)\u001b[0m\u001b[0;34m\u001b[0m\u001b[0;34m\u001b[0m\u001b[0m\n\u001b[1;32m      2\u001b[0m \u001b[0;34m\u001b[0m\u001b[0m\n\u001b[0;32m----> 3\u001b[0;31m \u001b[0mgen\u001b[0m \u001b[0;34m=\u001b[0m \u001b[0mFramePredGen\u001b[0m\u001b[0;34m(\u001b[0m\u001b[0mshape\u001b[0m\u001b[0;34m,\u001b[0m \u001b[0;36m16\u001b[0m\u001b[0;34m,\u001b[0m \u001b[0;36m1\u001b[0m\u001b[0;34m,\u001b[0m \u001b[0mwrite_moving_object_into\u001b[0m\u001b[0;34m)\u001b[0m\u001b[0;34m\u001b[0m\u001b[0;34m\u001b[0m\u001b[0m\n\u001b[0m\u001b[1;32m      4\u001b[0m \u001b[0;34m\u001b[0m\u001b[0m\n\u001b[1;32m      5\u001b[0m \u001b[0mbatch\u001b[0m \u001b[0;34m=\u001b[0m \u001b[0mgen\u001b[0m\u001b[0;34m[\u001b[0m\u001b[0;36m0\u001b[0m\u001b[0;34m]\u001b[0m\u001b[0;34m\u001b[0m\u001b[0;34m\u001b[0m\u001b[0m\n",
            "\u001b[0;32m<ipython-input-6-854c6f1f9bb1>\u001b[0m in \u001b[0;36m__init__\u001b[0;34m(self, frame_shape, n_frames_x, n_frames_y, renderer_function, len, batch_size)\u001b[0m\n\u001b[1;32m     14\u001b[0m     \u001b[0mself\u001b[0m\u001b[0;34m.\u001b[0m\u001b[0mn_frames_x\u001b[0m \u001b[0;34m=\u001b[0m \u001b[0mn_frames_x\u001b[0m\u001b[0;34m\u001b[0m\u001b[0;34m\u001b[0m\u001b[0m\n\u001b[1;32m     15\u001b[0m     \u001b[0mself\u001b[0m\u001b[0;34m.\u001b[0m\u001b[0mn_frames_y\u001b[0m \u001b[0;34m=\u001b[0m \u001b[0mn_frames_y\u001b[0m\u001b[0;34m\u001b[0m\u001b[0;34m\u001b[0m\u001b[0m\n\u001b[0;32m---> 16\u001b[0;31m     \u001b[0mself\u001b[0m\u001b[0;34m.\u001b[0m\u001b[0mn_objects\u001b[0m \u001b[0;34m=\u001b[0m \u001b[0mn_objects\u001b[0m\u001b[0;34m\u001b[0m\u001b[0;34m\u001b[0m\u001b[0m\n\u001b[0m\u001b[1;32m     17\u001b[0m     \u001b[0mself\u001b[0m\u001b[0;34m.\u001b[0m\u001b[0mrenderer_function\u001b[0m \u001b[0;34m=\u001b[0m \u001b[0mrenderer_function\u001b[0m\u001b[0;34m\u001b[0m\u001b[0;34m\u001b[0m\u001b[0m\n\u001b[1;32m     18\u001b[0m     \u001b[0mself\u001b[0m\u001b[0;34m.\u001b[0m\u001b[0mlen\u001b[0m \u001b[0;34m=\u001b[0m \u001b[0mlen\u001b[0m\u001b[0;34m\u001b[0m\u001b[0;34m\u001b[0m\u001b[0m\n",
            "\u001b[0;31mNameError\u001b[0m: name 'n_objects' is not defined"
          ]
        }
      ]
    },
    {
      "cell_type": "code",
      "metadata": {
        "id": "3z_vuzTMAkfj",
        "colab": {
          "base_uri": "https://localhost:8080/"
        },
        "outputId": "2cac4333-84c0-49d9-d9ed-987b70e2dfd5"
      },
      "source": [
        "from tensorflow.keras.layers import Input, ConvLSTM2D, BatchNormalization, Conv3D, Conv2D, Reshape\n",
        "from tensorflow.keras.models import Model\n",
        "from tensorflow.keras.losses import binary_crossentropy\n",
        "from tensorflow.keras.optimizers import Adam\n",
        "\n",
        "# Construct the input layer with no definite frame size.\n",
        "inp = Input(shape=(None, *shape, 1))\n",
        "\n",
        "# We will construct 3 `ConvLSTM2D` layers with batch normalization,\n",
        "# followed by a `Conv3D` layer for the spatiotemporal outputs.\n",
        "x = ConvLSTM2D(\n",
        "    filters=64,\n",
        "    kernel_size=(5, 5),\n",
        "    padding=\"same\",\n",
        "    return_sequences=True,\n",
        "    activation=\"relu\",\n",
        ")(inp)\n",
        "x = BatchNormalization()(x)\n",
        "x = ConvLSTM2D(\n",
        "    filters=64,\n",
        "    kernel_size=(3, 3),\n",
        "    padding=\"same\",\n",
        "    return_sequences=True,\n",
        "    activation=\"relu\",\n",
        ")(x)\n",
        "x = BatchNormalization()(x)\n",
        "x = ConvLSTM2D(\n",
        "    filters=64,\n",
        "    kernel_size=(1, 1),\n",
        "    padding=\"same\",\n",
        "    return_sequences=False,\n",
        "    activation=\"relu\",\n",
        ")(x)\n",
        "x = Conv2D(\n",
        "    filters=1, kernel_size=(3, 3), activation=\"tanh\", padding=\"same\"\n",
        ")(x)\n",
        "x = Reshape((1,*shape))(x)\n",
        "\n",
        "\n",
        "\n",
        "# Next, we will build the complete model and compile it.\n",
        "model = Model(inp, x)\n",
        "model.summary()\n",
        "model.compile(\n",
        "    loss=binary_crossentropy, optimizer=Adam(),\n",
        ")"
      ],
      "execution_count": null,
      "outputs": [
        {
          "output_type": "stream",
          "text": [
            "Model: \"model_1\"\n",
            "_________________________________________________________________\n",
            "Layer (type)                 Output Shape              Param #   \n",
            "=================================================================\n",
            "input_3 (InputLayer)         [(None, None, 24, 24, 1)] 0         \n",
            "_________________________________________________________________\n",
            "conv_lst_m2d_6 (ConvLSTM2D)  (None, None, 24, 24, 64)  416256    \n",
            "_________________________________________________________________\n",
            "batch_normalization_4 (Batch (None, None, 24, 24, 64)  256       \n",
            "_________________________________________________________________\n",
            "conv_lst_m2d_7 (ConvLSTM2D)  (None, None, 24, 24, 64)  295168    \n",
            "_________________________________________________________________\n",
            "batch_normalization_5 (Batch (None, None, 24, 24, 64)  256       \n",
            "_________________________________________________________________\n",
            "conv_lst_m2d_8 (ConvLSTM2D)  (None, 24, 24, 64)        33024     \n",
            "_________________________________________________________________\n",
            "conv2d_2 (Conv2D)            (None, 24, 24, 1)         577       \n",
            "_________________________________________________________________\n",
            "reshape_2 (Reshape)          (None, 1, 24, 24)         0         \n",
            "=================================================================\n",
            "Total params: 745,537\n",
            "Trainable params: 745,281\n",
            "Non-trainable params: 256\n",
            "_________________________________________________________________\n"
          ],
          "name": "stdout"
        }
      ]
    },
    {
      "cell_type": "code",
      "metadata": {
        "id": "gW8nNC9yBb86",
        "colab": {
          "base_uri": "https://localhost:8080/",
          "height": 1000
        },
        "outputId": "f1ac6ebb-8516-4c15-8dd2-14c8a9f9b84b"
      },
      "source": [
        "model.fit(gen, epochs=1000)"
      ],
      "execution_count": null,
      "outputs": [
        {
          "output_type": "stream",
          "text": [
            "Epoch 1/1000\n",
            "50/50 [==============================] - 38s 748ms/step - loss: 0.1757\n",
            "Epoch 2/1000\n",
            "50/50 [==============================] - 37s 738ms/step - loss: 0.1739\n",
            "Epoch 3/1000\n",
            "50/50 [==============================] - 38s 759ms/step - loss: 0.1706\n",
            "Epoch 4/1000\n",
            "50/50 [==============================] - 37s 740ms/step - loss: 0.1731\n",
            "Epoch 5/1000\n",
            "50/50 [==============================] - 38s 754ms/step - loss: 0.1769\n",
            "Epoch 6/1000\n",
            "50/50 [==============================] - 38s 750ms/step - loss: 0.1721\n",
            "Epoch 7/1000\n",
            "50/50 [==============================] - 38s 761ms/step - loss: 0.1724\n",
            "Epoch 8/1000\n",
            "50/50 [==============================] - 38s 744ms/step - loss: 0.1700\n",
            "Epoch 9/1000\n",
            "50/50 [==============================] - 38s 755ms/step - loss: 0.1662\n",
            "Epoch 10/1000\n",
            "50/50 [==============================] - 38s 742ms/step - loss: 0.1672\n",
            "Epoch 11/1000\n",
            "50/50 [==============================] - 37s 740ms/step - loss: 0.1641\n",
            "Epoch 12/1000\n",
            "50/50 [==============================] - 38s 758ms/step - loss: 0.1705\n",
            "Epoch 13/1000\n",
            "50/50 [==============================] - 38s 745ms/step - loss: 0.1649\n",
            "Epoch 14/1000\n",
            "50/50 [==============================] - 37s 736ms/step - loss: 0.1640\n",
            "Epoch 15/1000\n",
            "50/50 [==============================] - 38s 753ms/step - loss: 0.1723\n",
            "Epoch 16/1000\n",
            "50/50 [==============================] - 38s 744ms/step - loss: 0.1654\n",
            "Epoch 17/1000\n",
            "50/50 [==============================] - 38s 758ms/step - loss: 0.1654\n",
            "Epoch 18/1000\n",
            "50/50 [==============================] - 38s 753ms/step - loss: 0.1628\n",
            "Epoch 19/1000\n",
            "50/50 [==============================] - 38s 750ms/step - loss: 0.1604\n",
            "Epoch 20/1000\n",
            "50/50 [==============================] - 38s 748ms/step - loss: 0.1827\n",
            "Epoch 21/1000\n",
            "50/50 [==============================] - 38s 747ms/step - loss: 0.1893\n",
            "Epoch 22/1000\n",
            "50/50 [==============================] - 38s 749ms/step - loss: 0.1755\n",
            "Epoch 23/1000\n",
            "50/50 [==============================] - 37s 739ms/step - loss: 0.1968\n",
            "Epoch 24/1000\n",
            "50/50 [==============================] - 39s 765ms/step - loss: 0.2596\n",
            "Epoch 25/1000\n",
            "50/50 [==============================] - 38s 757ms/step - loss: 0.2105\n",
            "Epoch 26/1000\n",
            "50/50 [==============================] - 38s 760ms/step - loss: 0.1995\n",
            "Epoch 27/1000\n",
            "50/50 [==============================] - 37s 736ms/step - loss: 0.1889\n",
            "Epoch 28/1000\n",
            "50/50 [==============================] - 38s 750ms/step - loss: 0.1831\n",
            "Epoch 29/1000\n",
            "50/50 [==============================] - 38s 745ms/step - loss: 0.1792\n",
            "Epoch 30/1000\n",
            "50/50 [==============================] - 38s 746ms/step - loss: 0.1776\n",
            "Epoch 31/1000\n",
            "50/50 [==============================] - 38s 758ms/step - loss: 0.1746\n",
            "Epoch 32/1000\n",
            "50/50 [==============================] - 38s 746ms/step - loss: 0.1706\n",
            "Epoch 33/1000\n",
            "50/50 [==============================] - 38s 757ms/step - loss: 0.1745\n",
            "Epoch 34/1000\n",
            "50/50 [==============================] - 39s 767ms/step - loss: 0.1759\n",
            "Epoch 35/1000\n",
            "50/50 [==============================] - 39s 762ms/step - loss: 0.1682\n",
            "Epoch 36/1000\n",
            "50/50 [==============================] - 38s 750ms/step - loss: 0.1724\n",
            "Epoch 37/1000\n",
            "50/50 [==============================] - 38s 750ms/step - loss: 0.1799\n",
            "Epoch 38/1000\n",
            "50/50 [==============================] - 38s 748ms/step - loss: 0.1725\n",
            "Epoch 39/1000\n",
            "50/50 [==============================] - 38s 753ms/step - loss: 0.1686\n",
            "Epoch 40/1000\n",
            "50/50 [==============================] - 38s 744ms/step - loss: 0.1659\n",
            "Epoch 41/1000\n",
            "50/50 [==============================] - 38s 750ms/step - loss: 0.1728\n",
            "Epoch 42/1000\n",
            "50/50 [==============================] - 38s 743ms/step - loss: 0.1661\n",
            "Epoch 43/1000\n",
            "50/50 [==============================] - 37s 741ms/step - loss: 0.1704\n",
            "Epoch 44/1000\n",
            "50/50 [==============================] - 38s 756ms/step - loss: 0.1661\n",
            "Epoch 45/1000\n",
            "50/50 [==============================] - 38s 749ms/step - loss: 0.1661\n",
            "Epoch 46/1000\n",
            "50/50 [==============================] - 37s 739ms/step - loss: 0.1624\n",
            "Epoch 47/1000\n",
            "50/50 [==============================] - 38s 753ms/step - loss: 0.1646\n",
            "Epoch 48/1000\n",
            "50/50 [==============================] - 39s 768ms/step - loss: 0.1629\n",
            "Epoch 49/1000\n",
            "50/50 [==============================] - 38s 757ms/step - loss: 0.1726\n",
            "Epoch 50/1000\n",
            "50/50 [==============================] - 39s 774ms/step - loss: 0.1659\n",
            "Epoch 51/1000\n",
            "50/50 [==============================] - 38s 760ms/step - loss: 0.1615\n",
            "Epoch 52/1000\n",
            "50/50 [==============================] - 38s 757ms/step - loss: 0.1623\n",
            "Epoch 53/1000\n",
            "50/50 [==============================] - 38s 746ms/step - loss: 0.1600\n",
            "Epoch 54/1000\n",
            "50/50 [==============================] - 38s 748ms/step - loss: 0.1589\n",
            "Epoch 55/1000\n",
            "50/50 [==============================] - 38s 756ms/step - loss: 0.1579\n",
            "Epoch 56/1000\n",
            "50/50 [==============================] - 38s 746ms/step - loss: 0.1578\n",
            "Epoch 57/1000\n",
            "50/50 [==============================] - 38s 747ms/step - loss: 0.1591\n",
            "Epoch 58/1000\n",
            "50/50 [==============================] - 38s 762ms/step - loss: 0.1624\n",
            "Epoch 59/1000\n",
            "50/50 [==============================] - 38s 753ms/step - loss: 0.1584\n",
            "Epoch 60/1000\n",
            "50/50 [==============================] - 38s 746ms/step - loss: 0.1567\n",
            "Epoch 61/1000\n",
            "50/50 [==============================] - 38s 752ms/step - loss: 0.1579\n",
            "Epoch 62/1000\n",
            "50/50 [==============================] - 38s 752ms/step - loss: 0.1559\n",
            "Epoch 63/1000\n",
            "50/50 [==============================] - 38s 744ms/step - loss: 0.1551\n",
            "Epoch 64/1000\n",
            "50/50 [==============================] - 39s 765ms/step - loss: 0.1542\n",
            "Epoch 65/1000\n",
            "50/50 [==============================] - 38s 751ms/step - loss: 0.1514\n",
            "Epoch 66/1000\n",
            "50/50 [==============================] - 38s 762ms/step - loss: 0.1545\n",
            "Epoch 67/1000\n",
            "50/50 [==============================] - 37s 732ms/step - loss: 0.1495\n",
            "Epoch 68/1000\n",
            "50/50 [==============================] - 38s 749ms/step - loss: 0.1492\n",
            "Epoch 69/1000\n",
            "50/50 [==============================] - 38s 755ms/step - loss: 0.1510\n",
            "Epoch 70/1000\n",
            "50/50 [==============================] - 38s 751ms/step - loss: 0.1507\n",
            "Epoch 71/1000\n",
            "50/50 [==============================] - 37s 737ms/step - loss: 0.1496\n",
            "Epoch 72/1000\n",
            "50/50 [==============================] - 37s 730ms/step - loss: 0.1510\n",
            "Epoch 73/1000\n",
            "50/50 [==============================] - 37s 730ms/step - loss: 0.1516\n",
            "Epoch 74/1000\n",
            "50/50 [==============================] - 38s 753ms/step - loss: 0.1484\n",
            "Epoch 75/1000\n",
            "50/50 [==============================] - 37s 741ms/step - loss: 0.1476\n",
            "Epoch 76/1000\n",
            "50/50 [==============================] - 38s 745ms/step - loss: 0.1541\n",
            "Epoch 77/1000\n",
            "50/50 [==============================] - 37s 735ms/step - loss: 0.1638\n",
            "Epoch 78/1000\n",
            "50/50 [==============================] - 37s 742ms/step - loss: 0.1596\n",
            "Epoch 79/1000\n",
            "50/50 [==============================] - 38s 751ms/step - loss: 0.1551\n",
            "Epoch 80/1000\n",
            "50/50 [==============================] - 38s 752ms/step - loss: 0.1525\n",
            "Epoch 81/1000\n",
            "50/50 [==============================] - 38s 748ms/step - loss: 0.1486\n",
            "Epoch 82/1000\n",
            "50/50 [==============================] - 38s 744ms/step - loss: 0.1502\n",
            "Epoch 83/1000\n",
            "50/50 [==============================] - 37s 735ms/step - loss: 0.1468\n",
            "Epoch 84/1000\n",
            "50/50 [==============================] - 38s 748ms/step - loss: 0.1539\n",
            "Epoch 85/1000\n",
            "50/50 [==============================] - 37s 742ms/step - loss: 0.1512\n",
            "Epoch 86/1000\n",
            "50/50 [==============================] - 38s 747ms/step - loss: 0.1501\n",
            "Epoch 87/1000\n",
            "50/50 [==============================] - 37s 736ms/step - loss: 0.1562\n",
            "Epoch 88/1000\n",
            "50/50 [==============================] - 38s 752ms/step - loss: 0.1482\n",
            "Epoch 89/1000\n",
            "50/50 [==============================] - 38s 749ms/step - loss: 0.1463\n",
            "Epoch 90/1000\n",
            "50/50 [==============================] - 38s 757ms/step - loss: 0.1809\n",
            "Epoch 91/1000\n",
            "50/50 [==============================] - 38s 746ms/step - loss: 0.1638\n",
            "Epoch 92/1000\n",
            "50/50 [==============================] - 38s 749ms/step - loss: 0.1556\n",
            "Epoch 93/1000\n",
            "50/50 [==============================] - 37s 730ms/step - loss: 0.1523\n",
            "Epoch 94/1000\n",
            "50/50 [==============================] - 38s 748ms/step - loss: 0.1547\n",
            "Epoch 95/1000\n",
            "50/50 [==============================] - 37s 738ms/step - loss: 0.1543\n",
            "Epoch 96/1000\n",
            "50/50 [==============================] - 37s 740ms/step - loss: 0.1486\n",
            "Epoch 97/1000\n",
            "50/50 [==============================] - 37s 734ms/step - loss: 0.1475\n",
            "Epoch 98/1000\n",
            "50/50 [==============================] - 38s 743ms/step - loss: 0.1536\n",
            "Epoch 99/1000\n",
            "50/50 [==============================] - 38s 753ms/step - loss: 0.1540\n",
            "Epoch 100/1000\n",
            "50/50 [==============================] - 37s 732ms/step - loss: 0.1510\n",
            "Epoch 101/1000\n",
            "50/50 [==============================] - 37s 734ms/step - loss: 0.1467\n",
            "Epoch 102/1000\n",
            "50/50 [==============================] - 37s 742ms/step - loss: 0.1458\n",
            "Epoch 103/1000\n",
            "50/50 [==============================] - 38s 748ms/step - loss: 0.1465\n",
            "Epoch 104/1000\n",
            "50/50 [==============================] - 38s 749ms/step - loss: 0.1608\n",
            "Epoch 105/1000\n",
            "50/50 [==============================] - 37s 731ms/step - loss: 0.1486\n",
            "Epoch 106/1000\n",
            "50/50 [==============================] - 37s 743ms/step - loss: 0.1791\n",
            "Epoch 107/1000\n",
            "50/50 [==============================] - 38s 741ms/step - loss: 0.1590\n",
            "Epoch 108/1000\n",
            "50/50 [==============================] - 38s 747ms/step - loss: 0.1528\n",
            "Epoch 109/1000\n",
            "50/50 [==============================] - 38s 744ms/step - loss: 0.1548\n",
            "Epoch 110/1000\n",
            "50/50 [==============================] - 37s 739ms/step - loss: 0.1518\n",
            "Epoch 111/1000\n",
            "50/50 [==============================] - 37s 740ms/step - loss: 0.1499\n",
            "Epoch 112/1000\n",
            "50/50 [==============================] - 38s 752ms/step - loss: 0.1491\n",
            "Epoch 113/1000\n",
            "50/50 [==============================] - 37s 741ms/step - loss: 0.1458\n",
            "Epoch 114/1000\n",
            "50/50 [==============================] - 38s 744ms/step - loss: 0.1452\n",
            "Epoch 115/1000\n",
            "50/50 [==============================] - 38s 748ms/step - loss: 0.1471\n",
            "Epoch 116/1000\n",
            "50/50 [==============================] - 37s 733ms/step - loss: 0.1554\n",
            "Epoch 117/1000\n",
            "50/50 [==============================] - 37s 731ms/step - loss: 0.1509\n",
            "Epoch 118/1000\n",
            "50/50 [==============================] - 37s 740ms/step - loss: 0.1776\n",
            "Epoch 119/1000\n",
            "50/50 [==============================] - 38s 751ms/step - loss: 0.1658\n",
            "Epoch 120/1000\n",
            "50/50 [==============================] - 37s 730ms/step - loss: 0.1549\n",
            "Epoch 121/1000\n",
            "50/50 [==============================] - 38s 745ms/step - loss: 0.1588\n",
            "Epoch 122/1000\n",
            "50/50 [==============================] - 38s 741ms/step - loss: 0.1573\n",
            "Epoch 123/1000\n",
            "50/50 [==============================] - 37s 730ms/step - loss: 0.1507\n",
            "Epoch 124/1000\n",
            "50/50 [==============================] - 37s 727ms/step - loss: 0.1486\n",
            "Epoch 125/1000\n",
            "50/50 [==============================] - 38s 745ms/step - loss: 0.1590\n",
            "Epoch 126/1000\n",
            "50/50 [==============================] - 37s 735ms/step - loss: 0.1529\n",
            "Epoch 127/1000\n",
            "50/50 [==============================] - 37s 742ms/step - loss: 0.1528\n",
            "Epoch 128/1000\n",
            "50/50 [==============================] - 38s 744ms/step - loss: 0.1480\n",
            "Epoch 129/1000\n",
            "50/50 [==============================] - 37s 739ms/step - loss: 0.1497\n",
            "Epoch 130/1000\n",
            "50/50 [==============================] - 37s 735ms/step - loss: 0.1446\n",
            "Epoch 131/1000\n",
            "50/50 [==============================] - 38s 755ms/step - loss: 0.1542\n",
            "Epoch 132/1000\n",
            "50/50 [==============================] - 38s 743ms/step - loss: 0.1950\n",
            "Epoch 133/1000\n",
            "50/50 [==============================] - 38s 744ms/step - loss: 0.1611\n",
            "Epoch 134/1000\n",
            "50/50 [==============================] - 38s 745ms/step - loss: 0.1524\n",
            "Epoch 135/1000\n",
            "50/50 [==============================] - 38s 743ms/step - loss: 0.1502\n",
            "Epoch 136/1000\n",
            "50/50 [==============================] - 37s 741ms/step - loss: 0.1511\n",
            "Epoch 137/1000\n",
            "50/50 [==============================] - 38s 743ms/step - loss: 0.1450\n",
            "Epoch 138/1000\n",
            "50/50 [==============================] - 38s 740ms/step - loss: 0.1458\n",
            "Epoch 139/1000\n",
            "50/50 [==============================] - 38s 752ms/step - loss: 0.1464\n",
            "Epoch 140/1000\n",
            "50/50 [==============================] - 38s 743ms/step - loss: 0.1456\n",
            "Epoch 141/1000\n",
            "50/50 [==============================] - 38s 742ms/step - loss: 0.1426\n",
            "Epoch 142/1000\n",
            "50/50 [==============================] - 38s 743ms/step - loss: 0.1417\n",
            "Epoch 143/1000\n",
            "50/50 [==============================] - 37s 740ms/step - loss: 0.1399\n",
            "Epoch 144/1000\n",
            "50/50 [==============================] - 37s 740ms/step - loss: 0.1415\n",
            "Epoch 145/1000\n",
            "50/50 [==============================] - 37s 735ms/step - loss: 0.1760\n",
            "Epoch 146/1000\n",
            "50/50 [==============================] - 37s 741ms/step - loss: 0.1535\n",
            "Epoch 147/1000\n",
            "50/50 [==============================] - 38s 742ms/step - loss: 0.1491\n",
            "Epoch 148/1000\n",
            "50/50 [==============================] - 38s 754ms/step - loss: 0.1562\n",
            "Epoch 149/1000\n",
            "50/50 [==============================] - 38s 750ms/step - loss: 0.1707\n",
            "Epoch 150/1000\n",
            "50/50 [==============================] - 37s 734ms/step - loss: 0.2005\n",
            "Epoch 151/1000\n",
            "50/50 [==============================] - 38s 748ms/step - loss: 0.1770\n",
            "Epoch 152/1000\n",
            "50/50 [==============================] - 37s 736ms/step - loss: 0.1643\n",
            "Epoch 153/1000\n",
            "50/50 [==============================] - 37s 737ms/step - loss: 0.1568\n",
            "Epoch 154/1000\n",
            "50/50 [==============================] - 38s 744ms/step - loss: 0.1531\n",
            "Epoch 155/1000\n",
            "50/50 [==============================] - 38s 759ms/step - loss: 0.1540\n",
            "Epoch 156/1000\n",
            "50/50 [==============================] - 37s 741ms/step - loss: 0.1498\n",
            "Epoch 157/1000\n",
            "50/50 [==============================] - 38s 751ms/step - loss: 0.1513\n",
            "Epoch 158/1000\n",
            "50/50 [==============================] - 38s 750ms/step - loss: 0.1618\n",
            "Epoch 159/1000\n",
            "50/50 [==============================] - 38s 743ms/step - loss: 0.1613\n",
            "Epoch 160/1000\n",
            "50/50 [==============================] - 38s 745ms/step - loss: 0.1506\n",
            "Epoch 161/1000\n",
            "50/50 [==============================] - 38s 751ms/step - loss: 0.1563\n",
            "Epoch 162/1000\n",
            "50/50 [==============================] - 37s 737ms/step - loss: 0.1495\n",
            "Epoch 163/1000\n",
            "50/50 [==============================] - 38s 752ms/step - loss: 0.1515\n",
            "Epoch 164/1000\n",
            "50/50 [==============================] - 37s 737ms/step - loss: 0.1518\n",
            "Epoch 165/1000\n",
            "50/50 [==============================] - 37s 738ms/step - loss: 0.1503\n",
            "Epoch 166/1000\n",
            "50/50 [==============================] - 37s 728ms/step - loss: 0.1607\n",
            "Epoch 167/1000\n",
            "50/50 [==============================] - 37s 737ms/step - loss: 0.1560\n",
            "Epoch 168/1000\n",
            "50/50 [==============================] - 38s 744ms/step - loss: 0.1571\n",
            "Epoch 169/1000\n",
            "50/50 [==============================] - 38s 749ms/step - loss: 0.1550\n",
            "Epoch 170/1000\n",
            "50/50 [==============================] - 37s 734ms/step - loss: 0.1520\n",
            "Epoch 171/1000\n",
            "50/50 [==============================] - 37s 734ms/step - loss: 0.1509\n",
            "Epoch 172/1000\n",
            "50/50 [==============================] - 37s 737ms/step - loss: 0.1464\n",
            "Epoch 173/1000\n",
            "50/50 [==============================] - 38s 748ms/step - loss: 0.1444\n",
            "Epoch 174/1000\n",
            "50/50 [==============================] - 37s 737ms/step - loss: 0.2054\n",
            "Epoch 175/1000\n",
            "50/50 [==============================] - 37s 731ms/step - loss: 0.1726\n",
            "Epoch 176/1000\n",
            "50/50 [==============================] - 38s 751ms/step - loss: 0.1955\n",
            "Epoch 177/1000\n",
            "50/50 [==============================] - 37s 738ms/step - loss: 0.1732\n",
            "Epoch 178/1000\n",
            "50/50 [==============================] - 38s 745ms/step - loss: 0.1626\n",
            "Epoch 179/1000\n",
            "50/50 [==============================] - 38s 745ms/step - loss: 0.1612\n",
            "Epoch 180/1000\n",
            "50/50 [==============================] - 38s 751ms/step - loss: 0.1592\n",
            "Epoch 181/1000\n",
            "50/50 [==============================] - 38s 742ms/step - loss: 0.1571\n",
            "Epoch 182/1000\n",
            "50/50 [==============================] - 38s 752ms/step - loss: 0.1915\n",
            "Epoch 183/1000\n",
            "50/50 [==============================] - 37s 742ms/step - loss: 0.1712\n",
            "Epoch 184/1000\n",
            "50/50 [==============================] - 38s 755ms/step - loss: 0.1649\n",
            "Epoch 185/1000\n",
            "50/50 [==============================] - 37s 736ms/step - loss: 0.1588\n",
            "Epoch 186/1000\n",
            "50/50 [==============================] - 37s 735ms/step - loss: 0.1559\n",
            "Epoch 187/1000\n",
            "50/50 [==============================] - 38s 742ms/step - loss: 0.1535\n",
            "Epoch 188/1000\n",
            "50/50 [==============================] - 38s 746ms/step - loss: 0.1536\n",
            "Epoch 189/1000\n",
            "50/50 [==============================] - 39s 770ms/step - loss: 0.1512\n",
            "Epoch 190/1000\n",
            "50/50 [==============================] - 38s 761ms/step - loss: 0.1499\n",
            "Epoch 191/1000\n",
            "50/50 [==============================] - 38s 742ms/step - loss: 0.1467\n",
            "Epoch 192/1000\n",
            "50/50 [==============================] - 38s 744ms/step - loss: 0.1456\n",
            "Epoch 193/1000\n",
            "50/50 [==============================] - 37s 732ms/step - loss: 0.1474\n",
            "Epoch 194/1000\n",
            "50/50 [==============================] - 38s 753ms/step - loss: 0.2584\n",
            "Epoch 195/1000\n",
            "50/50 [==============================] - 38s 748ms/step - loss: 0.2245\n",
            "Epoch 196/1000\n",
            "50/50 [==============================] - 37s 735ms/step - loss: 0.2020\n",
            "Epoch 197/1000\n",
            "50/50 [==============================] - 37s 736ms/step - loss: 0.2007\n",
            "Epoch 198/1000\n",
            "50/50 [==============================] - 38s 746ms/step - loss: 0.1920\n",
            "Epoch 199/1000\n",
            "50/50 [==============================] - 37s 742ms/step - loss: 0.1801\n",
            "Epoch 200/1000\n",
            "50/50 [==============================] - 37s 730ms/step - loss: 0.1727\n",
            "Epoch 201/1000\n",
            "50/50 [==============================] - 37s 735ms/step - loss: 0.1681\n",
            "Epoch 202/1000\n",
            "50/50 [==============================] - 37s 741ms/step - loss: 0.1663\n",
            "Epoch 203/1000\n",
            "50/50 [==============================] - 38s 753ms/step - loss: 0.1624\n",
            "Epoch 204/1000\n",
            "50/50 [==============================] - 38s 744ms/step - loss: 0.1615\n",
            "Epoch 205/1000\n",
            "50/50 [==============================] - 37s 741ms/step - loss: 0.1681\n",
            "Epoch 206/1000\n",
            "50/50 [==============================] - 38s 750ms/step - loss: 0.1607\n",
            "Epoch 207/1000\n",
            "50/50 [==============================] - 37s 723ms/step - loss: 0.1559\n",
            "Epoch 208/1000\n",
            "50/50 [==============================] - 37s 739ms/step - loss: 0.1570\n",
            "Epoch 209/1000\n",
            "50/50 [==============================] - 38s 743ms/step - loss: 0.1563\n",
            "Epoch 210/1000\n",
            "50/50 [==============================] - 38s 745ms/step - loss: 0.1535\n",
            "Epoch 211/1000\n",
            "50/50 [==============================] - 38s 744ms/step - loss: 0.1531\n",
            "Epoch 212/1000\n",
            "50/50 [==============================] - 37s 740ms/step - loss: 0.1507\n",
            "Epoch 213/1000\n",
            "50/50 [==============================] - 38s 747ms/step - loss: 0.1496\n",
            "Epoch 214/1000\n",
            "50/50 [==============================] - 37s 729ms/step - loss: 0.1488\n",
            "Epoch 215/1000\n",
            "50/50 [==============================] - 37s 737ms/step - loss: 0.1483\n",
            "Epoch 216/1000\n",
            "50/50 [==============================] - 37s 738ms/step - loss: 0.1481\n",
            "Epoch 217/1000\n",
            "50/50 [==============================] - 38s 744ms/step - loss: 0.1541\n",
            "Epoch 218/1000\n",
            "50/50 [==============================] - 38s 743ms/step - loss: 0.1492\n",
            "Epoch 219/1000\n",
            "50/50 [==============================] - 38s 754ms/step - loss: 0.1472\n",
            "Epoch 220/1000\n",
            "50/50 [==============================] - 38s 753ms/step - loss: 0.1452\n",
            "Epoch 221/1000\n",
            "50/50 [==============================] - 37s 728ms/step - loss: 0.1435\n",
            "Epoch 222/1000\n",
            "50/50 [==============================] - 37s 731ms/step - loss: 0.1457\n",
            "Epoch 223/1000\n",
            "50/50 [==============================] - 37s 735ms/step - loss: 0.1435\n",
            "Epoch 224/1000\n",
            "50/50 [==============================] - 37s 735ms/step - loss: 0.1427\n",
            "Epoch 225/1000\n",
            "50/50 [==============================] - 38s 748ms/step - loss: 0.1425\n",
            "Epoch 226/1000\n",
            "50/50 [==============================] - 38s 747ms/step - loss: 0.1427\n",
            "Epoch 227/1000\n",
            "50/50 [==============================] - 37s 733ms/step - loss: 0.1409\n",
            "Epoch 228/1000\n",
            "50/50 [==============================] - 38s 751ms/step - loss: 0.1431\n",
            "Epoch 229/1000\n",
            "50/50 [==============================] - 37s 739ms/step - loss: 0.1520\n",
            "Epoch 230/1000\n",
            "50/50 [==============================] - 38s 742ms/step - loss: 0.1528\n",
            "Epoch 231/1000\n",
            "50/50 [==============================] - 38s 751ms/step - loss: 0.1488\n",
            "Epoch 232/1000\n",
            "50/50 [==============================] - 37s 737ms/step - loss: 0.1447\n",
            "Epoch 233/1000\n",
            "50/50 [==============================] - 37s 738ms/step - loss: 0.1436\n",
            "Epoch 234/1000\n",
            "50/50 [==============================] - 38s 750ms/step - loss: 0.1414\n",
            "Epoch 235/1000\n",
            "50/50 [==============================] - 38s 743ms/step - loss: 0.1427\n",
            "Epoch 236/1000\n",
            "50/50 [==============================] - 38s 760ms/step - loss: 0.1400\n",
            "Epoch 237/1000\n",
            "50/50 [==============================] - 37s 742ms/step - loss: 0.1400\n",
            "Epoch 238/1000\n",
            "50/50 [==============================] - 38s 742ms/step - loss: 0.1395\n",
            "Epoch 239/1000\n",
            "50/50 [==============================] - 37s 741ms/step - loss: 0.1411\n",
            "Epoch 240/1000\n",
            "50/50 [==============================] - 38s 742ms/step - loss: 0.1385\n",
            "Epoch 241/1000\n",
            "50/50 [==============================] - 38s 745ms/step - loss: 0.1388\n",
            "Epoch 242/1000\n",
            "50/50 [==============================] - 37s 738ms/step - loss: 0.1368\n",
            "Epoch 243/1000\n",
            "50/50 [==============================] - 38s 755ms/step - loss: 0.1393\n",
            "Epoch 244/1000\n",
            "50/50 [==============================] - 37s 736ms/step - loss: 0.1393\n",
            "Epoch 245/1000\n",
            "50/50 [==============================] - 38s 750ms/step - loss: 0.1587\n",
            "Epoch 246/1000\n",
            "50/50 [==============================] - 37s 735ms/step - loss: 0.1486\n",
            "Epoch 247/1000\n",
            "50/50 [==============================] - 37s 740ms/step - loss: 0.1444\n",
            "Epoch 248/1000\n",
            "50/50 [==============================] - 38s 744ms/step - loss: 0.1492\n",
            "Epoch 249/1000\n",
            "50/50 [==============================] - 37s 733ms/step - loss: 0.1444\n",
            "Epoch 250/1000\n",
            "50/50 [==============================] - 37s 740ms/step - loss: 0.1765\n",
            "Epoch 251/1000\n",
            "50/50 [==============================] - 37s 741ms/step - loss: 0.1538\n",
            "Epoch 252/1000\n",
            "50/50 [==============================] - 37s 724ms/step - loss: 0.1454\n",
            "Epoch 253/1000\n",
            "50/50 [==============================] - 37s 742ms/step - loss: 0.1711\n",
            "Epoch 254/1000\n",
            "50/50 [==============================] - 37s 736ms/step - loss: 0.1591\n",
            "Epoch 255/1000\n",
            "50/50 [==============================] - 37s 740ms/step - loss: 0.1474\n",
            "Epoch 256/1000\n",
            "50/50 [==============================] - 38s 754ms/step - loss: 0.1448\n",
            "Epoch 257/1000\n",
            "50/50 [==============================] - 38s 744ms/step - loss: 0.1419\n",
            "Epoch 258/1000\n",
            "50/50 [==============================] - 38s 752ms/step - loss: 0.1389\n",
            "Epoch 259/1000\n",
            "50/50 [==============================] - 38s 747ms/step - loss: 0.1742\n",
            "Epoch 260/1000\n",
            "50/50 [==============================] - 37s 742ms/step - loss: 0.1868\n",
            "Epoch 261/1000\n",
            "50/50 [==============================] - 38s 746ms/step - loss: 0.1617\n",
            "Epoch 262/1000\n",
            "50/50 [==============================] - 37s 733ms/step - loss: 0.1525\n",
            "Epoch 263/1000\n",
            "50/50 [==============================] - 38s 757ms/step - loss: 0.1568\n",
            "Epoch 264/1000\n",
            "50/50 [==============================] - 38s 743ms/step - loss: 0.1480\n",
            "Epoch 265/1000\n",
            "50/50 [==============================] - 38s 742ms/step - loss: 0.1457\n",
            "Epoch 266/1000\n",
            "50/50 [==============================] - 37s 737ms/step - loss: 0.1453\n",
            "Epoch 267/1000\n",
            "50/50 [==============================] - 37s 728ms/step - loss: 0.1435\n",
            "Epoch 268/1000\n",
            "50/50 [==============================] - 37s 731ms/step - loss: 0.1511\n",
            "Epoch 269/1000\n",
            "50/50 [==============================] - 37s 739ms/step - loss: 0.1423\n",
            "Epoch 270/1000\n",
            "50/50 [==============================] - 38s 742ms/step - loss: 0.1443\n",
            "Epoch 271/1000\n",
            "50/50 [==============================] - 37s 737ms/step - loss: 0.1417\n",
            "Epoch 272/1000\n",
            "50/50 [==============================] - 37s 733ms/step - loss: 0.1452\n",
            "Epoch 273/1000\n",
            "50/50 [==============================] - 38s 753ms/step - loss: 0.1442\n",
            "Epoch 274/1000\n",
            "50/50 [==============================] - 37s 736ms/step - loss: 0.1400\n",
            "Epoch 275/1000\n",
            "50/50 [==============================] - 37s 742ms/step - loss: 0.1393\n",
            "Epoch 276/1000\n",
            "50/50 [==============================] - 37s 741ms/step - loss: 0.1463\n",
            "Epoch 277/1000\n",
            "50/50 [==============================] - 37s 738ms/step - loss: 0.1437\n",
            "Epoch 278/1000\n",
            "50/50 [==============================] - 38s 745ms/step - loss: 0.1422\n",
            "Epoch 279/1000\n",
            "50/50 [==============================] - 37s 729ms/step - loss: 0.1394\n",
            "Epoch 280/1000\n",
            "50/50 [==============================] - 38s 745ms/step - loss: 0.1411\n",
            "Epoch 281/1000\n",
            "50/50 [==============================] - 37s 735ms/step - loss: 0.1423\n",
            "Epoch 282/1000\n",
            "50/50 [==============================] - 37s 737ms/step - loss: 0.1528\n",
            "Epoch 283/1000\n",
            "50/50 [==============================] - 38s 741ms/step - loss: 0.1718\n",
            "Epoch 284/1000\n",
            "50/50 [==============================] - 37s 732ms/step - loss: 0.1538\n",
            "Epoch 285/1000\n",
            "50/50 [==============================] - 37s 737ms/step - loss: 0.1693\n",
            "Epoch 286/1000\n",
            "50/50 [==============================] - 37s 736ms/step - loss: 0.1485\n",
            "Epoch 287/1000\n",
            "50/50 [==============================] - 37s 728ms/step - loss: 0.1439\n",
            "Epoch 288/1000\n",
            "50/50 [==============================] - 37s 726ms/step - loss: 0.1560\n",
            "Epoch 289/1000\n",
            "50/50 [==============================] - 37s 732ms/step - loss: 0.1476\n",
            "Epoch 290/1000\n",
            "50/50 [==============================] - 37s 731ms/step - loss: 0.1431\n",
            "Epoch 291/1000\n",
            "50/50 [==============================] - 38s 752ms/step - loss: 0.1411\n",
            "Epoch 292/1000\n",
            "50/50 [==============================] - 37s 736ms/step - loss: 0.1396\n",
            "Epoch 293/1000\n",
            "50/50 [==============================] - 38s 752ms/step - loss: 0.1384\n",
            "Epoch 294/1000\n",
            "50/50 [==============================] - 37s 734ms/step - loss: 0.1375\n",
            "Epoch 295/1000\n",
            "50/50 [==============================] - 37s 741ms/step - loss: 0.1370\n",
            "Epoch 296/1000\n",
            "50/50 [==============================] - 37s 736ms/step - loss: 0.1345\n",
            "Epoch 297/1000\n",
            "50/50 [==============================] - 37s 738ms/step - loss: 0.1839\n",
            "Epoch 298/1000\n",
            "50/50 [==============================] - 38s 749ms/step - loss: 0.1581\n",
            "Epoch 299/1000\n",
            "50/50 [==============================] - 38s 743ms/step - loss: 0.1503\n",
            "Epoch 300/1000\n",
            "50/50 [==============================] - 36s 719ms/step - loss: 0.1424\n",
            "Epoch 301/1000\n",
            "50/50 [==============================] - 37s 736ms/step - loss: 0.1429\n",
            "Epoch 302/1000\n",
            "50/50 [==============================] - 37s 735ms/step - loss: 0.1422\n",
            "Epoch 303/1000\n",
            "50/50 [==============================] - 38s 743ms/step - loss: 0.1698\n",
            "Epoch 304/1000\n",
            "50/50 [==============================] - 37s 739ms/step - loss: 0.1537\n",
            "Epoch 305/1000\n",
            "50/50 [==============================] - 37s 724ms/step - loss: 0.1474\n",
            "Epoch 306/1000\n",
            "50/50 [==============================] - 37s 737ms/step - loss: 0.1458\n",
            "Epoch 307/1000\n",
            "50/50 [==============================] - 37s 739ms/step - loss: 0.1416\n",
            "Epoch 308/1000\n",
            "50/50 [==============================] - 37s 728ms/step - loss: 0.1434\n",
            "Epoch 309/1000\n",
            "50/50 [==============================] - 37s 741ms/step - loss: 0.1724\n",
            "Epoch 310/1000\n",
            "50/50 [==============================] - 38s 744ms/step - loss: 0.1554\n",
            "Epoch 311/1000\n",
            "50/50 [==============================] - 37s 739ms/step - loss: 0.1477\n",
            "Epoch 312/1000\n",
            "50/50 [==============================] - 37s 738ms/step - loss: 0.1441\n",
            "Epoch 313/1000\n",
            "50/50 [==============================] - 37s 737ms/step - loss: 0.1415\n",
            "Epoch 314/1000\n",
            "50/50 [==============================] - 37s 730ms/step - loss: 0.1394\n",
            "Epoch 315/1000\n",
            "50/50 [==============================] - 37s 725ms/step - loss: 0.1417\n",
            "Epoch 316/1000\n",
            "50/50 [==============================] - 37s 742ms/step - loss: 0.1412\n",
            "Epoch 317/1000\n",
            "50/50 [==============================] - 37s 732ms/step - loss: 0.1398\n",
            "Epoch 318/1000\n",
            "50/50 [==============================] - 37s 733ms/step - loss: 0.1396\n",
            "Epoch 319/1000\n",
            "50/50 [==============================] - 37s 743ms/step - loss: 0.1375\n",
            "Epoch 320/1000\n",
            "50/50 [==============================] - 37s 733ms/step - loss: 0.1361\n",
            "Epoch 321/1000\n",
            "50/50 [==============================] - 37s 741ms/step - loss: 0.1355\n",
            "Epoch 322/1000\n",
            "50/50 [==============================] - 38s 754ms/step - loss: 0.1363\n",
            "Epoch 323/1000\n",
            "50/50 [==============================] - 37s 738ms/step - loss: 0.1366\n",
            "Epoch 324/1000\n",
            "50/50 [==============================] - 37s 725ms/step - loss: 0.1351\n",
            "Epoch 325/1000\n",
            "50/50 [==============================] - 38s 743ms/step - loss: 0.1323\n",
            "Epoch 326/1000\n",
            "50/50 [==============================] - 37s 740ms/step - loss: 0.1331\n",
            "Epoch 327/1000\n",
            "50/50 [==============================] - 38s 751ms/step - loss: 0.1303\n",
            "Epoch 328/1000\n",
            "50/50 [==============================] - 37s 740ms/step - loss: 0.1321\n",
            "Epoch 329/1000\n",
            "50/50 [==============================] - 37s 729ms/step - loss: 0.1343\n",
            "Epoch 330/1000\n",
            "50/50 [==============================] - 38s 747ms/step - loss: 0.1304\n",
            "Epoch 331/1000\n",
            "50/50 [==============================] - 38s 743ms/step - loss: 0.1310\n",
            "Epoch 332/1000\n",
            "50/50 [==============================] - 37s 738ms/step - loss: 0.1310\n",
            "Epoch 333/1000\n",
            "50/50 [==============================] - 37s 730ms/step - loss: 0.1317\n",
            "Epoch 334/1000\n",
            "50/50 [==============================] - 38s 743ms/step - loss: 0.1284\n",
            "Epoch 335/1000\n",
            "50/50 [==============================] - 37s 737ms/step - loss: 0.1282\n",
            "Epoch 336/1000\n",
            "50/50 [==============================] - 37s 731ms/step - loss: 0.1334\n",
            "Epoch 337/1000\n",
            "50/50 [==============================] - 38s 744ms/step - loss: 0.1327\n",
            "Epoch 338/1000\n",
            "50/50 [==============================] - 37s 733ms/step - loss: 0.1290\n",
            "Epoch 339/1000\n",
            "50/50 [==============================] - 37s 731ms/step - loss: 0.1294\n",
            "Epoch 340/1000\n",
            "50/50 [==============================] - 37s 728ms/step - loss: 0.1346\n",
            "Epoch 341/1000\n",
            "50/50 [==============================] - 38s 744ms/step - loss: 0.1452\n",
            "Epoch 342/1000\n",
            "50/50 [==============================] - 37s 739ms/step - loss: 0.1367\n",
            "Epoch 343/1000\n",
            "50/50 [==============================] - 37s 739ms/step - loss: 0.1334\n",
            "Epoch 344/1000\n",
            "50/50 [==============================] - 37s 736ms/step - loss: 0.1304\n",
            "Epoch 345/1000\n",
            "50/50 [==============================] - 37s 740ms/step - loss: 0.1340\n",
            "Epoch 346/1000\n",
            "50/50 [==============================] - 37s 727ms/step - loss: 0.1331\n",
            "Epoch 347/1000\n",
            "50/50 [==============================] - 38s 746ms/step - loss: 0.1295\n",
            "Epoch 348/1000\n",
            "50/50 [==============================] - 37s 735ms/step - loss: 0.1278\n",
            "Epoch 349/1000\n",
            "50/50 [==============================] - 37s 726ms/step - loss: 0.1292\n",
            "Epoch 350/1000\n",
            "50/50 [==============================] - 37s 733ms/step - loss: 0.1340\n",
            "Epoch 351/1000\n",
            "50/50 [==============================] - 38s 746ms/step - loss: 0.1312\n",
            "Epoch 352/1000\n",
            "50/50 [==============================] - 38s 743ms/step - loss: 0.1283\n",
            "Epoch 353/1000\n",
            "50/50 [==============================] - 37s 741ms/step - loss: 0.1280\n",
            "Epoch 354/1000\n",
            "50/50 [==============================] - 37s 737ms/step - loss: 0.1291\n",
            "Epoch 355/1000\n",
            "50/50 [==============================] - 37s 734ms/step - loss: 0.1308\n",
            "Epoch 356/1000\n",
            "50/50 [==============================] - 38s 749ms/step - loss: 0.1284\n",
            "Epoch 357/1000\n",
            "50/50 [==============================] - 38s 742ms/step - loss: 0.1388\n",
            "Epoch 358/1000\n",
            "50/50 [==============================] - 38s 745ms/step - loss: 0.1301\n",
            "Epoch 359/1000\n",
            "50/50 [==============================] - 38s 750ms/step - loss: 0.1293\n",
            "Epoch 360/1000\n",
            "50/50 [==============================] - 37s 735ms/step - loss: 0.1315\n",
            "Epoch 361/1000\n",
            "50/50 [==============================] - 37s 739ms/step - loss: 0.1275\n",
            "Epoch 362/1000\n",
            " 6/50 [==>...........................] - ETA: 32s - loss: 0.1288"
          ],
          "name": "stdout"
        },
        {
          "output_type": "error",
          "ename": "KeyboardInterrupt",
          "evalue": "ignored",
          "traceback": [
            "\u001b[0;31m---------------------------------------------------------------------------\u001b[0m",
            "\u001b[0;31mKeyboardInterrupt\u001b[0m                         Traceback (most recent call last)",
            "\u001b[0;32m<ipython-input-41-a1f03bb8d222>\u001b[0m in \u001b[0;36m<module>\u001b[0;34m()\u001b[0m\n\u001b[0;32m----> 1\u001b[0;31m \u001b[0mmodel\u001b[0m\u001b[0;34m.\u001b[0m\u001b[0mfit\u001b[0m\u001b[0;34m(\u001b[0m\u001b[0mgen\u001b[0m\u001b[0;34m,\u001b[0m \u001b[0mepochs\u001b[0m\u001b[0;34m=\u001b[0m\u001b[0;36m1000\u001b[0m\u001b[0;34m)\u001b[0m\u001b[0;34m\u001b[0m\u001b[0;34m\u001b[0m\u001b[0m\n\u001b[0m",
            "\u001b[0;32m/usr/local/lib/python3.7/dist-packages/keras/engine/training.py\u001b[0m in \u001b[0;36mfit\u001b[0;34m(self, x, y, batch_size, epochs, verbose, callbacks, validation_split, validation_data, shuffle, class_weight, sample_weight, initial_epoch, steps_per_epoch, validation_steps, validation_batch_size, validation_freq, max_queue_size, workers, use_multiprocessing)\u001b[0m\n\u001b[1;32m   1182\u001b[0m                 _r=1):\n\u001b[1;32m   1183\u001b[0m               \u001b[0mcallbacks\u001b[0m\u001b[0;34m.\u001b[0m\u001b[0mon_train_batch_begin\u001b[0m\u001b[0;34m(\u001b[0m\u001b[0mstep\u001b[0m\u001b[0;34m)\u001b[0m\u001b[0;34m\u001b[0m\u001b[0;34m\u001b[0m\u001b[0m\n\u001b[0;32m-> 1184\u001b[0;31m               \u001b[0mtmp_logs\u001b[0m \u001b[0;34m=\u001b[0m \u001b[0mself\u001b[0m\u001b[0;34m.\u001b[0m\u001b[0mtrain_function\u001b[0m\u001b[0;34m(\u001b[0m\u001b[0miterator\u001b[0m\u001b[0;34m)\u001b[0m\u001b[0;34m\u001b[0m\u001b[0;34m\u001b[0m\u001b[0m\n\u001b[0m\u001b[1;32m   1185\u001b[0m               \u001b[0;32mif\u001b[0m \u001b[0mdata_handler\u001b[0m\u001b[0;34m.\u001b[0m\u001b[0mshould_sync\u001b[0m\u001b[0;34m:\u001b[0m\u001b[0;34m\u001b[0m\u001b[0;34m\u001b[0m\u001b[0m\n\u001b[1;32m   1186\u001b[0m                 \u001b[0mcontext\u001b[0m\u001b[0;34m.\u001b[0m\u001b[0masync_wait\u001b[0m\u001b[0;34m(\u001b[0m\u001b[0;34m)\u001b[0m\u001b[0;34m\u001b[0m\u001b[0;34m\u001b[0m\u001b[0m\n",
            "\u001b[0;32m/usr/local/lib/python3.7/dist-packages/tensorflow/python/eager/def_function.py\u001b[0m in \u001b[0;36m__call__\u001b[0;34m(self, *args, **kwds)\u001b[0m\n\u001b[1;32m    883\u001b[0m \u001b[0;34m\u001b[0m\u001b[0m\n\u001b[1;32m    884\u001b[0m       \u001b[0;32mwith\u001b[0m \u001b[0mOptionalXlaContext\u001b[0m\u001b[0;34m(\u001b[0m\u001b[0mself\u001b[0m\u001b[0;34m.\u001b[0m\u001b[0m_jit_compile\u001b[0m\u001b[0;34m)\u001b[0m\u001b[0;34m:\u001b[0m\u001b[0;34m\u001b[0m\u001b[0;34m\u001b[0m\u001b[0m\n\u001b[0;32m--> 885\u001b[0;31m         \u001b[0mresult\u001b[0m \u001b[0;34m=\u001b[0m \u001b[0mself\u001b[0m\u001b[0;34m.\u001b[0m\u001b[0m_call\u001b[0m\u001b[0;34m(\u001b[0m\u001b[0;34m*\u001b[0m\u001b[0margs\u001b[0m\u001b[0;34m,\u001b[0m \u001b[0;34m**\u001b[0m\u001b[0mkwds\u001b[0m\u001b[0;34m)\u001b[0m\u001b[0;34m\u001b[0m\u001b[0;34m\u001b[0m\u001b[0m\n\u001b[0m\u001b[1;32m    886\u001b[0m \u001b[0;34m\u001b[0m\u001b[0m\n\u001b[1;32m    887\u001b[0m       \u001b[0mnew_tracing_count\u001b[0m \u001b[0;34m=\u001b[0m \u001b[0mself\u001b[0m\u001b[0;34m.\u001b[0m\u001b[0mexperimental_get_tracing_count\u001b[0m\u001b[0;34m(\u001b[0m\u001b[0;34m)\u001b[0m\u001b[0;34m\u001b[0m\u001b[0;34m\u001b[0m\u001b[0m\n",
            "\u001b[0;32m/usr/local/lib/python3.7/dist-packages/tensorflow/python/eager/def_function.py\u001b[0m in \u001b[0;36m_call\u001b[0;34m(self, *args, **kwds)\u001b[0m\n\u001b[1;32m    915\u001b[0m       \u001b[0;31m# In this case we have created variables on the first call, so we run the\u001b[0m\u001b[0;34m\u001b[0m\u001b[0;34m\u001b[0m\u001b[0;34m\u001b[0m\u001b[0m\n\u001b[1;32m    916\u001b[0m       \u001b[0;31m# defunned version which is guaranteed to never create variables.\u001b[0m\u001b[0;34m\u001b[0m\u001b[0;34m\u001b[0m\u001b[0;34m\u001b[0m\u001b[0m\n\u001b[0;32m--> 917\u001b[0;31m       \u001b[0;32mreturn\u001b[0m \u001b[0mself\u001b[0m\u001b[0;34m.\u001b[0m\u001b[0m_stateless_fn\u001b[0m\u001b[0;34m(\u001b[0m\u001b[0;34m*\u001b[0m\u001b[0margs\u001b[0m\u001b[0;34m,\u001b[0m \u001b[0;34m**\u001b[0m\u001b[0mkwds\u001b[0m\u001b[0;34m)\u001b[0m  \u001b[0;31m# pylint: disable=not-callable\u001b[0m\u001b[0;34m\u001b[0m\u001b[0;34m\u001b[0m\u001b[0m\n\u001b[0m\u001b[1;32m    918\u001b[0m     \u001b[0;32melif\u001b[0m \u001b[0mself\u001b[0m\u001b[0;34m.\u001b[0m\u001b[0m_stateful_fn\u001b[0m \u001b[0;32mis\u001b[0m \u001b[0;32mnot\u001b[0m \u001b[0;32mNone\u001b[0m\u001b[0;34m:\u001b[0m\u001b[0;34m\u001b[0m\u001b[0;34m\u001b[0m\u001b[0m\n\u001b[1;32m    919\u001b[0m       \u001b[0;31m# Release the lock early so that multiple threads can perform the call\u001b[0m\u001b[0;34m\u001b[0m\u001b[0;34m\u001b[0m\u001b[0;34m\u001b[0m\u001b[0m\n",
            "\u001b[0;32m/usr/local/lib/python3.7/dist-packages/tensorflow/python/eager/function.py\u001b[0m in \u001b[0;36m__call__\u001b[0;34m(self, *args, **kwargs)\u001b[0m\n\u001b[1;32m   3038\u001b[0m        filtered_flat_args) = self._maybe_define_function(args, kwargs)\n\u001b[1;32m   3039\u001b[0m     return graph_function._call_flat(\n\u001b[0;32m-> 3040\u001b[0;31m         filtered_flat_args, captured_inputs=graph_function.captured_inputs)  # pylint: disable=protected-access\n\u001b[0m\u001b[1;32m   3041\u001b[0m \u001b[0;34m\u001b[0m\u001b[0m\n\u001b[1;32m   3042\u001b[0m   \u001b[0;34m@\u001b[0m\u001b[0mproperty\u001b[0m\u001b[0;34m\u001b[0m\u001b[0;34m\u001b[0m\u001b[0m\n",
            "\u001b[0;32m/usr/local/lib/python3.7/dist-packages/tensorflow/python/eager/function.py\u001b[0m in \u001b[0;36m_call_flat\u001b[0;34m(self, args, captured_inputs, cancellation_manager)\u001b[0m\n\u001b[1;32m   1962\u001b[0m       \u001b[0;31m# No tape is watching; skip to running the function.\u001b[0m\u001b[0;34m\u001b[0m\u001b[0;34m\u001b[0m\u001b[0;34m\u001b[0m\u001b[0m\n\u001b[1;32m   1963\u001b[0m       return self._build_call_outputs(self._inference_function.call(\n\u001b[0;32m-> 1964\u001b[0;31m           ctx, args, cancellation_manager=cancellation_manager))\n\u001b[0m\u001b[1;32m   1965\u001b[0m     forward_backward = self._select_forward_and_backward_functions(\n\u001b[1;32m   1966\u001b[0m         \u001b[0margs\u001b[0m\u001b[0;34m,\u001b[0m\u001b[0;34m\u001b[0m\u001b[0;34m\u001b[0m\u001b[0m\n",
            "\u001b[0;32m/usr/local/lib/python3.7/dist-packages/tensorflow/python/eager/function.py\u001b[0m in \u001b[0;36mcall\u001b[0;34m(self, ctx, args, cancellation_manager)\u001b[0m\n\u001b[1;32m    594\u001b[0m               \u001b[0minputs\u001b[0m\u001b[0;34m=\u001b[0m\u001b[0margs\u001b[0m\u001b[0;34m,\u001b[0m\u001b[0;34m\u001b[0m\u001b[0;34m\u001b[0m\u001b[0m\n\u001b[1;32m    595\u001b[0m               \u001b[0mattrs\u001b[0m\u001b[0;34m=\u001b[0m\u001b[0mattrs\u001b[0m\u001b[0;34m,\u001b[0m\u001b[0;34m\u001b[0m\u001b[0;34m\u001b[0m\u001b[0m\n\u001b[0;32m--> 596\u001b[0;31m               ctx=ctx)\n\u001b[0m\u001b[1;32m    597\u001b[0m         \u001b[0;32melse\u001b[0m\u001b[0;34m:\u001b[0m\u001b[0;34m\u001b[0m\u001b[0;34m\u001b[0m\u001b[0m\n\u001b[1;32m    598\u001b[0m           outputs = execute.execute_with_cancellation(\n",
            "\u001b[0;32m/usr/local/lib/python3.7/dist-packages/tensorflow/python/eager/execute.py\u001b[0m in \u001b[0;36mquick_execute\u001b[0;34m(op_name, num_outputs, inputs, attrs, ctx, name)\u001b[0m\n\u001b[1;32m     58\u001b[0m     \u001b[0mctx\u001b[0m\u001b[0;34m.\u001b[0m\u001b[0mensure_initialized\u001b[0m\u001b[0;34m(\u001b[0m\u001b[0;34m)\u001b[0m\u001b[0;34m\u001b[0m\u001b[0;34m\u001b[0m\u001b[0m\n\u001b[1;32m     59\u001b[0m     tensors = pywrap_tfe.TFE_Py_Execute(ctx._handle, device_name, op_name,\n\u001b[0;32m---> 60\u001b[0;31m                                         inputs, attrs, num_outputs)\n\u001b[0m\u001b[1;32m     61\u001b[0m   \u001b[0;32mexcept\u001b[0m \u001b[0mcore\u001b[0m\u001b[0;34m.\u001b[0m\u001b[0m_NotOkStatusException\u001b[0m \u001b[0;32mas\u001b[0m \u001b[0me\u001b[0m\u001b[0;34m:\u001b[0m\u001b[0;34m\u001b[0m\u001b[0;34m\u001b[0m\u001b[0m\n\u001b[1;32m     62\u001b[0m     \u001b[0;32mif\u001b[0m \u001b[0mname\u001b[0m \u001b[0;32mis\u001b[0m \u001b[0;32mnot\u001b[0m \u001b[0;32mNone\u001b[0m\u001b[0;34m:\u001b[0m\u001b[0;34m\u001b[0m\u001b[0;34m\u001b[0m\u001b[0m\n",
            "\u001b[0;31mKeyboardInterrupt\u001b[0m: "
          ]
        }
      ]
    },
    {
      "cell_type": "code",
      "metadata": {
        "id": "8egpg4MkCczc"
      },
      "source": [
        "batch = gen[0]\n",
        "print(batch[1].shape)\n",
        "pred = model.predict(batch[0])\n",
        "actual = batch[1]\n",
        "print(pred.shape)\n",
        "show.show_images_from_np_array(pred.reshape(50, 24, 24), \"pred\")\n",
        "show.show_images_from_np_array(actual.reshape(50, 24, 24), \"act\")"
      ],
      "execution_count": null,
      "outputs": []
    },
    {
      "cell_type": "code",
      "metadata": {
        "id": "51jsxf0agxCl"
      },
      "source": [
        "def predict_single(model, input):\n",
        "  input = input[np.newaxis, ...]\n",
        "  output = model.predict(input)[0]\n",
        "  return output\n",
        "\n",
        "def dream_step(model, input):\n",
        "  predicted_image = predict_single(model, input)\n",
        "  \n",
        "  output = np.empty_like(input)\n",
        "  output[:-1] = input[1:]\n",
        "  output[-1] = predicted_image\n",
        "  return output"
      ],
      "execution_count": null,
      "outputs": []
    },
    {
      "cell_type": "code",
      "metadata": {
        "colab": {
          "base_uri": "https://localhost:8080/",
          "height": 1000
        },
        "id": "jcVBS_SCg1yY",
        "outputId": "644618df-ce95-4178-952b-5ed6f18c307f"
      },
      "source": [
        "from cv2 import VideoWriter\n",
        "import cv2\n",
        "from matplotlib import pyplot as plt\n",
        "\n",
        "# Abmessungen und Bildrate:\n",
        "width, height = 48, 48\n",
        "frame_rate = 10\n",
        "\n",
        "# Der Codec. Mit diesem hier haben wir gute Erfahrungen gemacht:\n",
        "codec = cv2.VideoWriter_fourcc(*'mp4v')\n",
        "\n",
        "# So initialisieren wir den VideoWriter.\n",
        "# Das erste Argument bestimmt den Pfad zur Ausgabedatei.\n",
        "# Achtung: Die Abmessungen werden hier in der üblichen Reihenfolge geschrieben,\n",
        "# also (Breite, Höhe) - also nicht so, wie wir es von NumPy Arrays gewohnt sind.\n",
        "out = VideoWriter('film.mp4', codec, frame_rate, (width, height))\n",
        "\n",
        "input = gen[0][0][6]\n",
        "\n",
        "\n",
        "for _ in range(100):\n",
        "  img = input[-1]\n",
        "  plt.imshow(img, cmap='gray', vmin=0, vmax=1)\n",
        "  plt.show()\n",
        "  input = dream_step(model, input)\n",
        "  img8bit = (img * 255.0).astype(\"uint8\")\n",
        "  img8bit = np.stack((img8bit,)*3, axis=-1)\n",
        "  black_image = np.zeros((height, width, 3), \"uint8\")\n",
        "  out.write(img8bit)\n",
        "  \n",
        "out.release()\n",
        "cv2.destroyAllWindows()"
      ],
      "execution_count": null,
      "outputs": [
        {
          "output_type": "display_data",
          "data": {
            "image/png": "[encoded data removed]",
            "text/plain": [
              "<Figure size 432x288 with 1 Axes>"
            ]
          },
          "metadata": {
            "needs_background": "light"
          }
        },
        {
          "output_type": "display_data",
          "data": {
            "image/png": "[encoded data removed]",
            "text/plain": [
              "<Figure size 432x288 with 1 Axes>"
            ]
          },
          "metadata": {
            "needs_background": "light"
          }
        },
        {
          "output_type": "display_data",
          "data": {
            "image/png": "[encoded data removed]",
            "text/plain": [
              "<Figure size 432x288 with 1 Axes>"
            ]
          },
          "metadata": {
            "needs_background": "light"
          }
        },
        {
          "output_type": "display_data",
          "data": {
            "image/png": "[encoded data removed]",
            "text/plain": [
              "<Figure size 432x288 with 1 Axes>"
            ]
          },
          "metadata": {
            "needs_background": "light"
          }
        },
        {
          "output_type": "display_data",
          "data": {
            "image/png": "[encoded data removed]",
            "text/plain": [
              "<Figure size 432x288 with 1 Axes>"
            ]
          },
          "metadata": {
            "needs_background": "light"
          }
        },
        {
          "output_type": "display_data",
          "data": {
            "image/png": "[encoded data removed]",
            "text/plain": [
              "<Figure size 432x288 with 1 Axes>"
            ]
          },
          "metadata": {
            "needs_background": "light"
          }
        },
        {
          "output_type": "display_data",
          "data": {
            "image/png": "[encoded data removed]",
            "text/plain": [
              "<Figure size 432x288 with 1 Axes>"
            ]
          },
          "metadata": {
            "needs_background": "light"
          }
        },
        {
          "output_type": "display_data",
          "data": {
            "image/png": "[encoded data removed]",
            "text/plain": [
              "<Figure size 432x288 with 1 Axes>"
            ]
          },
          "metadata": {
            "needs_background": "light"
          }
        },
        {
          "output_type": "display_data",
          "data": {
            "image/png": "[encoded data removed]",
            "text/plain": [
              "<Figure size 432x288 with 1 Axes>"
            ]
          },
          "metadata": {
            "needs_background": "light"
          }
        },
        {
          "output_type": "display_data",
          "data": {
            "image/png": "[encoded data removed]",
            "text/plain": [
              "<Figure size 432x288 with 1 Axes>"
            ]
          },
          "metadata": {
            "needs_background": "light"
          }
        },
        {
          "output_type": "display_data",
          "data": {
            "image/png": "[encoded data removed]",
            "text/plain": [
              "<Figure size 432x288 with 1 Axes>"
            ]
          },
          "metadata": {
            "needs_background": "light"
          }
        },
        {
          "output_type": "display_data",
          "data": {
            "image/png": "[encoded data removed]",
            "text/plain": [
              "<Figure size 432x288 with 1 Axes>"
            ]
          },
          "metadata": {
            "needs_background": "light"
          }
        },
        {
          "output_type": "display_data",
          "data": {
            "image/png": "[encoded data removed]",
            "text/plain": [
              "<Figure size 432x288 with 1 Axes>"
            ]
          },
          "metadata": {
            "needs_background": "light"
          }
        },
        {
          "output_type": "display_data",
          "data": {
            "image/png": "[encoded data removed]",
            "text/plain": [
              "<Figure size 432x288 with 1 Axes>"
            ]
          },
          "metadata": {
            "needs_background": "light"
          }
        },
        {
          "output_type": "display_data",
          "data": {
            "image/png": "[encoded data removed]",
            "text/plain": [
              "<Figure size 432x288 with 1 Axes>"
            ]
          },
          "metadata": {
            "needs_background": "light"
          }
        },
        {
          "output_type": "display_data",
          "data": {
            "image/png": "[encoded data removed]",
            "text/plain": [
              "<Figure size 432x288 with 1 Axes>"
            ]
          },
          "metadata": {
            "needs_background": "light"
          }
        },
        {
          "output_type": "display_data",
          "data": {
            "image/png": "[encoded data removed]",
            "text/plain": [
              "<Figure size 432x288 with 1 Axes>"
            ]
          },
          "metadata": {
            "needs_background": "light"
          }
        },
        {
          "output_type": "display_data",
          "data": {
            "image/png": "[encoded data removed]",
            "text/plain": [
              "<Figure size 432x288 with 1 Axes>"
            ]
          },
          "metadata": {
            "needs_background": "light"
          }
        },
        {
          "output_type": "display_data",
          "data": {
            "image/png": "[encoded data removed]",
            "text/plain": [
              "<Figure size 432x288 with 1 Axes>"
            ]
          },
          "metadata": {
            "needs_background": "light"
          }
        },
        {
          "output_type": "display_data",
          "data": {
            "image/png": "[encoded data removed]",
            "text/plain": [
              "<Figure size 432x288 with 1 Axes>"
            ]
          },
          "metadata": {
            "needs_background": "light"
          }
        },
        {
          "output_type": "display_data",
          "data": {
            "image/png": "[encoded data removed]",
            "text/plain": [
              "<Figure size 432x288 with 1 Axes>"
            ]
          },
          "metadata": {
            "needs_background": "light"
          }
        },
        {
          "output_type": "display_data",
          "data": {
            "image/png": "[encoded data removed]",
            "text/plain": [
              "<Figure size 432x288 with 1 Axes>"
            ]
          },
          "metadata": {
            "needs_background": "light"
          }
        },
        {
          "output_type": "display_data",
          "data": {
            "image/png": "[encoded data removed]",
            "text/plain": [
              "<Figure size 432x288 with 1 Axes>"
            ]
          },
          "metadata": {
            "needs_background": "light"
          }
        },
        {
          "output_type": "display_data",
          "data": {
            "image/png": "[encoded data removed]",
            "text/plain": [
              "<Figure size 432x288 with 1 Axes>"
            ]
          },
          "metadata": {
            "needs_background": "light"
          }
        },
        {
          "output_type": "display_data",
          "data": {
            "image/png": "[encoded data removed]",
            "text/plain": [
              "<Figure size 432x288 with 1 Axes>"
            ]
          },
          "metadata": {
            "needs_background": "light"
          }
        },
        {
          "output_type": "display_data",
          "data": {
            "image/png": "[encoded data removed]",
            "text/plain": [
              "<Figure size 432x288 with 1 Axes>"
            ]
          },
          "metadata": {
            "needs_background": "light"
          }
        },
        {
          "output_type": "display_data",
          "data": {
            "image/png": "[encoded data removed]",
            "text/plain": [
              "<Figure size 432x288 with 1 Axes>"
            ]
          },
          "metadata": {
            "needs_background": "light"
          }
        },
        {
          "output_type": "display_data",
          "data": {
            "image/png": "[encoded data removed]",
            "text/plain": [
              "<Figure size 432x288 with 1 Axes>"
            ]
          },
          "metadata": {
            "needs_background": "light"
          }
        },
        {
          "output_type": "display_data",
          "data": {
            "image/png": "[encoded data removed]",
            "text/plain": [
              "<Figure size 432x288 with 1 Axes>"
            ]
          },
          "metadata": {
            "needs_background": "light"
          }
        },
        {
          "output_type": "display_data",
          "data": {
            "image/png": "[encoded data removed]",
            "text/plain": [
              "<Figure size 432x288 with 1 Axes>"
            ]
          },
          "metadata": {
            "needs_background": "light"
          }
        },
        {
          "output_type": "display_data",
          "data": {
            "image/png": "[encoded data removed]",
            "text/plain": [
              "<Figure size 432x288 with 1 Axes>"
            ]
          },
          "metadata": {
            "needs_background": "light"
          }
        },
        {
          "output_type": "display_data",
          "data": {
            "image/png": "[encoded data removed]",
            "text/plain": [
              "<Figure size 432x288 with 1 Axes>"
            ]
          },
          "metadata": {
            "needs_background": "light"
          }
        },
        {
          "output_type": "display_data",
          "data": {
            "image/png": "[encoded data removed]",
            "text/plain": [
              "<Figure size 432x288 with 1 Axes>"
            ]
          },
          "metadata": {
            "needs_background": "light"
          }
        },
        {
          "output_type": "display_data",
          "data": {
            "image/png": "[encoded data removed]",
            "text/plain": [
              "<Figure size 432x288 with 1 Axes>"
            ]
          },
          "metadata": {
            "needs_background": "light"
          }
        },
        {
          "output_type": "display_data",
          "data": {
            "image/png": "[encoded data removed]",
            "text/plain": [
              "<Figure size 432x288 with 1 Axes>"
            ]
          },
          "metadata": {
            "needs_background": "light"
          }
        },
        {
          "output_type": "display_data",
          "data": {
            "image/png": "[encoded data removed]",
            "text/plain": [
              "<Figure size 432x288 with 1 Axes>"
            ]
          },
          "metadata": {
            "needs_background": "light"
          }
        },
        {
          "output_type": "display_data",
          "data": {
            "image/png": "[encoded data removed]",
            "text/plain": [
              "<Figure size 432x288 with 1 Axes>"
            ]
          },
          "metadata": {
            "needs_background": "light"
          }
        },
        {
          "output_type": "display_data",
          "data": {
            "image/png": "[encoded data removed]",
            "text/plain": [
              "<Figure size 432x288 with 1 Axes>"
            ]
          },
          "metadata": {
            "needs_background": "light"
          }
        },
        {
          "output_type": "display_data",
          "data": {
            "image/png": "[encoded data removed]",
            "text/plain": [
              "<Figure size 432x288 with 1 Axes>"
            ]
          },
          "metadata": {
            "needs_background": "light"
          }
        },
        {
          "output_type": "display_data",
          "data": {
            "image/png": "[encoded data removed]",
            "text/plain": [
              "<Figure size 432x288 with 1 Axes>"
            ]
          },
          "metadata": {
            "needs_background": "light"
          }
        },
        {
          "output_type": "display_data",
          "data": {
            "image/png": "[encoded data removed]",
            "text/plain": [
              "<Figure size 432x288 with 1 Axes>"
            ]
          },
          "metadata": {
            "needs_background": "light"
          }
        },
        {
          "output_type": "display_data",
          "data": {
            "image/png": "[encoded data removed]",
            "text/plain": [
              "<Figure size 432x288 with 1 Axes>"
            ]
          },
          "metadata": {
            "needs_background": "light"
          }
        },
        {
          "output_type": "display_data",
          "data": {
            "image/png": "[encoded data removed]",
            "text/plain": [
              "<Figure size 432x288 with 1 Axes>"
            ]
          },
          "metadata": {
            "needs_background": "light"
          }
        },
        {
          "output_type": "display_data",
          "data": {
            "image/png": "[encoded data removed]",
            "text/plain": [
              "<Figure size 432x288 with 1 Axes>"
            ]
          },
          "metadata": {
            "needs_background": "light"
          }
        },
        {
          "output_type": "display_data",
          "data": {
            "image/png": "[encoded data removed]",
            "text/plain": [
              "<Figure size 432x288 with 1 Axes>"
            ]
          },
          "metadata": {
            "needs_background": "light"
          }
        },
        {
          "output_type": "display_data",
          "data": {
            "image/png": "[encoded data removed]",
            "text/plain": [
              "<Figure size 432x288 with 1 Axes>"
            ]
          },
          "metadata": {
            "needs_background": "light"
          }
        },
        {
          "output_type": "display_data",
          "data": {
            "image/png": "[encoded data removed]",
            "text/plain": [
              "<Figure size 432x288 with 1 Axes>"
            ]
          },
          "metadata": {
            "needs_background": "light"
          }
        },
        {
          "output_type": "display_data",
          "data": {
            "image/png": "[encoded data removed]",
            "text/plain": [
              "<Figure size 432x288 with 1 Axes>"
            ]
          },
          "metadata": {
            "needs_background": "light"
          }
        },
        {
          "output_type": "display_data",
          "data": {
            "image/png": "[encoded data removed]",
            "text/plain": [
              "<Figure size 432x288 with 1 Axes>"
            ]
          },
          "metadata": {
            "needs_background": "light"
          }
        },
        {
          "output_type": "display_data",
          "data": {
            "image/png": "[encoded data removed]",
            "text/plain": [
              "<Figure size 432x288 with 1 Axes>"
            ]
          },
          "metadata": {
            "needs_background": "light"
          }
        },
        {
          "output_type": "display_data",
          "data": {
            "image/png": "[encoded data removed]",
            "text/plain": [
              "<Figure size 432x288 with 1 Axes>"
            ]
          },
          "metadata": {
            "needs_background": "light"
          }
        },
        {
          "output_type": "display_data",
          "data": {
            "image/png": "[encoded data removed]",
            "text/plain": [
              "<Figure size 432x288 with 1 Axes>"
            ]
          },
          "metadata": {
            "needs_background": "light"
          }
        },
        {
          "output_type": "display_data",
          "data": {
            "image/png": "[encoded data removed]",
            "text/plain": [
              "<Figure size 432x288 with 1 Axes>"
            ]
          },
          "metadata": {
            "needs_background": "light"
          }
        },
        {
          "output_type": "display_data",
          "data": {
            "image/png": "[encoded data removed]",
            "text/plain": [
              "<Figure size 432x288 with 1 Axes>"
            ]
          },
          "metadata": {
            "needs_background": "light"
          }
        },
        {
          "output_type": "display_data",
          "data": {
            "image/png": "[encoded data removed]",
            "text/plain": [
              "<Figure size 432x288 with 1 Axes>"
            ]
          },
          "metadata": {
            "needs_background": "light"
          }
        },
        {
          "output_type": "display_data",
          "data": {
            "image/png": "[encoded data removed]",
            "text/plain": [
              "<Figure size 432x288 with 1 Axes>"
            ]
          },
          "metadata": {
            "needs_background": "light"
          }
        },
        {
          "output_type": "display_data",
          "data": {
            "image/png": "[encoded data removed]",
            "text/plain": [
              "<Figure size 432x288 with 1 Axes>"
            ]
          },
          "metadata": {
            "needs_background": "light"
          }
        },
        {
          "output_type": "display_data",
          "data": {
            "image/png": "[encoded data removed]",
            "text/plain": [
              "<Figure size 432x288 with 1 Axes>"
            ]
          },
          "metadata": {
            "needs_background": "light"
          }
        },
        {
          "output_type": "display_data",
          "data": {
            "image/png": "[encoded data removed]",
            "text/plain": [
              "<Figure size 432x288 with 1 Axes>"
            ]
          },
          "metadata": {
            "needs_background": "light"
          }
        },
        {
          "output_type": "display_data",
          "data": {
            "image/png": "[encoded data removed]",
            "text/plain": [
              "<Figure size 432x288 with 1 Axes>"
            ]
          },
          "metadata": {
            "needs_background": "light"
          }
        },
        {
          "output_type": "display_data",
          "data": {
            "image/png": "[encoded data removed]",
            "text/plain": [
              "<Figure size 432x288 with 1 Axes>"
            ]
          },
          "metadata": {
            "needs_background": "light"
          }
        },
        {
          "output_type": "display_data",
          "data": {
            "image/png": "[encoded data removed]",
            "text/plain": [
              "<Figure size 432x288 with 1 Axes>"
            ]
          },
          "metadata": {
            "needs_background": "light"
          }
        },
        {
          "output_type": "display_data",
          "data": {
            "image/png": "[encoded data removed]",
            "text/plain": [
              "<Figure size 432x288 with 1 Axes>"
            ]
          },
          "metadata": {
            "needs_background": "light"
          }
        },
        {
          "output_type": "display_data",
          "data": {
            "image/png": "[encoded data removed]",
            "text/plain": [
              "<Figure size 432x288 with 1 Axes>"
            ]
          },
          "metadata": {
            "needs_background": "light"
          }
        },
        {
          "output_type": "display_data",
          "data": {
            "image/png": "[encoded data removed]",
            "text/plain": [
              "<Figure size 432x288 with 1 Axes>"
            ]
          },
          "metadata": {
            "needs_background": "light"
          }
        },
        {
          "output_type": "display_data",
          "data": {
            "image/png": "[encoded data removed]",
            "text/plain": [
              "<Figure size 432x288 with 1 Axes>"
            ]
          },
          "metadata": {
            "needs_background": "light"
          }
        },
        {
          "output_type": "display_data",
          "data": {
            "image/png": "[encoded data removed]",
            "text/plain": [
              "<Figure size 432x288 with 1 Axes>"
            ]
          },
          "metadata": {
            "needs_background": "light"
          }
        },
        {
          "output_type": "display_data",
          "data": {
            "image/png": "[encoded data removed]",
            "text/plain": [
              "<Figure size 432x288 with 1 Axes>"
            ]
          },
          "metadata": {
            "needs_background": "light"
          }
        },
        {
          "output_type": "display_data",
          "data": {
            "image/png": "[encoded data removed]",
            "text/plain": [
              "<Figure size 432x288 with 1 Axes>"
            ]
          },
          "metadata": {
            "needs_background": "light"
          }
        },
        {
          "output_type": "display_data",
          "data": {
            "image/png": "[encoded data removed]",
            "text/plain": [
              "<Figure size 432x288 with 1 Axes>"
            ]
          },
          "metadata": {
            "needs_background": "light"
          }
        },
        {
          "output_type": "display_data",
          "data": {
            "image/png": "[encoded data removed]",
            "text/plain": [
              "<Figure size 432x288 with 1 Axes>"
            ]
          },
          "metadata": {
            "needs_background": "light"
          }
        },
        {
          "output_type": "display_data",
          "data": {
            "image/png": "[encoded data removed]",
            "text/plain": [
              "<Figure size 432x288 with 1 Axes>"
            ]
          },
          "metadata": {
            "needs_background": "light"
          }
        },
        {
          "output_type": "display_data",
          "data": {
            "image/png": "[encoded data removed]",
            "text/plain": [
              "<Figure size 432x288 with 1 Axes>"
            ]
          },
          "metadata": {
            "needs_background": "light"
          }
        },
        {
          "output_type": "display_data",
          "data": {
            "image/png": "[encoded data removed]",
            "text/plain": [
              "<Figure size 432x288 with 1 Axes>"
            ]
          },
          "metadata": {
            "needs_background": "light"
          }
        },
        {
          "output_type": "display_data",
          "data": {
            "image/png": "[encoded data removed]",
            "text/plain": [
              "<Figure size 432x288 with 1 Axes>"
            ]
          },
          "metadata": {
            "needs_background": "light"
          }
        },
        {
          "output_type": "display_data",
          "data": {
            "image/png": "[encoded data removed]",
            "text/plain": [
              "<Figure size 432x288 with 1 Axes>"
            ]
          },
          "metadata": {
            "needs_background": "light"
          }
        },
        {
          "output_type": "display_data",
          "data": {
            "image/png": "[encoded data removed]",
            "text/plain": [
              "<Figure size 432x288 with 1 Axes>"
            ]
          },
          "metadata": {
            "needs_background": "light"
          }
        },
        {
          "output_type": "display_data",
          "data": {
            "image/png": "[encoded data removed]",
            "text/plain": [
              "<Figure size 432x288 with 1 Axes>"
            ]
          },
          "metadata": {
            "needs_background": "light"
          }
        },
        {
          "output_type": "display_data",
          "data": {
            "image/png": "[encoded data removed]",
            "text/plain": [
              "<Figure size 432x288 with 1 Axes>"
            ]
          },
          "metadata": {
            "needs_background": "light"
          }
        },
        {
          "output_type": "display_data",
          "data": {
            "image/png": "[encoded data removed]",
            "text/plain": [
              "<Figure size 432x288 with 1 Axes>"
            ]
          },
          "metadata": {
            "needs_background": "light"
          }
        },
        {
          "output_type": "display_data",
          "data": {
            "image/png": "[encoded data removed]",
            "text/plain": [
              "<Figure size 432x288 with 1 Axes>"
            ]
          },
          "metadata": {
            "needs_background": "light"
          }
        },
        {
          "output_type": "display_data",
          "data": {
            "image/png": "[encoded data removed]",
            "text/plain": [
              "<Figure size 432x288 with 1 Axes>"
            ]
          },
          "metadata": {
            "needs_background": "light"
          }
        },
        {
          "output_type": "display_data",
          "data": {
            "image/png": "[encoded data removed]",
            "text/plain": [
              "<Figure size 432x288 with 1 Axes>"
            ]
          },
          "metadata": {
            "needs_background": "light"
          }
        },
        {
          "output_type": "display_data",
          "data": {
            "image/png": "[encoded data removed]",
            "text/plain": [
              "<Figure size 432x288 with 1 Axes>"
            ]
          },
          "metadata": {
            "needs_background": "light"
          }
        },
        {
          "output_type": "display_data",
          "data": {
            "image/png": "[encoded data removed]",
            "text/plain": [
              "<Figure size 432x288 with 1 Axes>"
            ]
          },
          "metadata": {
            "needs_background": "light"
          }
        },
        {
          "output_type": "display_data",
          "data": {
            "image/png": "[encoded data removed]",
            "text/plain": [
              "<Figure size 432x288 with 1 Axes>"
            ]
          },
          "metadata": {
            "needs_background": "light"
          }
        },
        {
          "output_type": "display_data",
          "data": {
            "image/png": "[encoded data removed]",
            "text/plain": [
              "<Figure size 432x288 with 1 Axes>"
            ]
          },
          "metadata": {
            "needs_background": "light"
          }
        },
        {
          "output_type": "display_data",
          "data": {
            "image/png": "[encoded data removed]",
            "text/plain": [
              "<Figure size 432x288 with 1 Axes>"
            ]
          },
          "metadata": {
            "needs_background": "light"
          }
        },
        {
          "output_type": "display_data",
          "data": {
            "image/png": "[encoded data removed]",
            "text/plain": [
              "<Figure size 432x288 with 1 Axes>"
            ]
          },
          "metadata": {
            "needs_background": "light"
          }
        },
        {
          "output_type": "display_data",
          "data": {
            "image/png": "[encoded data removed]",
            "text/plain": [
              "<Figure size 432x288 with 1 Axes>"
            ]
          },
          "metadata": {
            "needs_background": "light"
          }
        },
        {
          "output_type": "display_data",
          "data": {
            "image/png": "[encoded data removed]",
            "text/plain": [
              "<Figure size 432x288 with 1 Axes>"
            ]
          },
          "metadata": {
            "needs_background": "light"
          }
        },
        {
          "output_type": "display_data",
          "data": {
            "image/png": "[encoded data removed]",
            "text/plain": [
              "<Figure size 432x288 with 1 Axes>"
            ]
          },
          "metadata": {
            "needs_background": "light"
          }
        },
        {
          "output_type": "display_data",
          "data": {
            "image/png": "[encoded data removed]",
            "text/plain": [
              "<Figure size 432x288 with 1 Axes>"
            ]
          },
          "metadata": {
            "needs_background": "light"
          }
        },
        {
          "output_type": "display_data",
          "data": {
            "image/png": "[encoded data removed]",
            "text/plain": [
              "<Figure size 432x288 with 1 Axes>"
            ]
          },
          "metadata": {
            "needs_background": "light"
          }
        },
        {
          "output_type": "display_data",
          "data": {
            "image/png": "[encoded data removed]",
            "text/plain": [
              "<Figure size 432x288 with 1 Axes>"
            ]
          },
          "metadata": {
            "needs_background": "light"
          }
        },
        {
          "output_type": "display_data",
          "data": {
            "image/png": "[encoded data removed]",
            "text/plain": [
              "<Figure size 432x288 with 1 Axes>"
            ]
          },
          "metadata": {
            "needs_background": "light"
          }
        },
        {
          "output_type": "display_data",
          "data": {
            "image/png": "[encoded data removed]",
            "text/plain": [
              "<Figure size 432x288 with 1 Axes>"
            ]
          },
          "metadata": {
            "needs_background": "light"
          }
        },
        {
          "output_type": "display_data",
          "data": {
            "image/png": "[encoded data removed]",
            "text/plain": [
              "<Figure size 432x288 with 1 Axes>"
            ]
          },
          "metadata": {
            "needs_background": "light"
          }
        },
        {
          "output_type": "display_data",
          "data": {
            "image/png": "[encoded data removed]",
            "text/plain": [
              "<Figure size 432x288 with 1 Axes>"
            ]
          },
          "metadata": {
            "needs_background": "light"
          }
        },
        {
          "output_type": "display_data",
          "data": {
            "image/png": "[encoded data removed]",
            "text/plain": [
              "<Figure size 432x288 with 1 Axes>"
            ]
          },
          "metadata": {
            "needs_background": "light"
          }
        }
      ]
    }
  ]
}